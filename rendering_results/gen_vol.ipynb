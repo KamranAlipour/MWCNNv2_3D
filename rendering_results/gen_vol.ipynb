{
 "cells": [
  {
   "cell_type": "code",
   "execution_count": null,
   "metadata": {},
   "outputs": [],
   "source": [
    "import glob\n",
    "import ipywidgets\n",
    "import ipyvolume\n",
    "import cv2\n",
    "import numpy as np\n",
    "import os\n",
    "import time"
   ]
  },
  {
   "cell_type": "code",
   "execution_count": 24,
   "metadata": {},
   "outputs": [],
   "source": [
    "experiment = 'MWCNN_DeNoising'\n",
    "data_dir = '/home/phacou/MWCNNv2/MWCNN_code/experiment/'+experiment+'/'\n",
    "sample = 'ucsdLED4k'\n",
    "noise = '' # other values you can try: '15' '20' '25' '30' '40'"
   ]
  },
  {
   "cell_type": "code",
   "execution_count": 15,
   "metadata": {},
   "outputs": [],
   "source": [
    "levels = {\n",
    "              'UCSD900U': {\n",
    "                              'SR': { '10': [0.45, 1.00], '15': [0.55, 1.00], '20': [0.65, 1.00], '25': [0.25, 0.90]},\n",
    "                              'LR': { '10': [0.45, 1.00], '15': [0.55, 1.00], '20': [0.65, 1.00], '25': [1.00, 0.90]},\n",
    "                              'HR': [1.00, 0.75]\n",
    "                          },\n",
    "              'S1': {\n",
    "                              'SR': { '10': [0.45, 1.00], '15': [0.55, 1.00], '20': [0.65, 1.00], '25': [0.25, 0.90]},\n",
    "                              'LR': { '10': [0.45, 1.00], '15': [0.55, 1.00], '20': [0.65, 1.00], '25': [1.00, 0.90]},\n",
    "                              'HR': [1.00, 0.75]\n",
    "                          }\n",
    "         }\n",
    "\n",
    "opacities = { 'UCSD900U': {\n",
    "                              'SR': { '10': [0.15,0.20,0.00], '15': [0.15,0.20,0.00], '20': [0.15,0.20,0.00], '25': [0.15,0.20,0.00]},\n",
    "                              'LR': { '10': [0.70,0.73,0.00], '15': [0.70,0.73,0.00], '20': [0.70,0.73,0.00], '25': [0.70,0.73,0.00]},\n",
    "                              'HR': [0.70,0.73,0.00]\n",
    "                          },\n",
    "               'S1': {\n",
    "                              'SR': { '10': [0.15,0.20,0.00], '15': [0.15,0.20,0.00], '20': [0.15,0.20,0.00], '25': [0.15,0.20,0.00]},\n",
    "                              'LR': { '10': [0.70,0.73,0.00], '15': [0.70,0.73,0.00], '20': [0.70,0.73,0.00], '25': [0.70,0.73,0.00]},\n",
    "                              'HR': [0.70,0.73,0.00]\n",
    "                          }\n",
    "            }"
   ]
  },
  {
   "cell_type": "code",
   "execution_count": 16,
   "metadata": {},
   "outputs": [],
   "source": [
    "model_addr = data_dir+sample+'_results/'"
   ]
  },
  {
   "cell_type": "code",
   "execution_count": 25,
   "metadata": {},
   "outputs": [
    {
     "data": {
      "text/plain": [
       "'/home/phacou/MWCNNv2/MWCNN_code/experiment/MWCNN_DeNoising/ucsdLED1k_results/GT/*HR.png'"
      ]
     },
     "execution_count": 25,
     "metadata": {},
     "output_type": "execute_result"
    }
   ],
   "source": [
    "case_addr = model_addr + noise\n",
    "os.path.join(case_addr,'GT/*HR.png')"
   ]
  },
  {
   "cell_type": "code",
   "execution_count": 26,
   "metadata": {},
   "outputs": [
    {
     "name": "stdout",
     "output_type": "stream",
     "text": [
      "/home/phacou/MWCNNv2/MWCNN_code/experiment/MWCNN_DeNoising/ucsdLED1k_results/\n"
     ]
    }
   ],
   "source": [
    "case_addr = model_addr + noise\n",
    "HRpngs = sorted(glob.glob(os.path.join(case_addr,'GT/*HR.png')))\n",
    "LRpngs = sorted(glob.glob(os.path.join(case_addr,'noisy/*LR.png')))\n",
    "SRpngs = sorted(glob.glob(os.path.join(case_addr,'model/*SR.png')))\n",
    "#hrdata = []\n",
    "lrdata = []\n",
    "srdata = []\n",
    "print(case_addr)\n",
    "for (hr,lr,sr) in zip(HRpngs,LRpngs,SRpngs):\n",
    "    #hrf = cv2.imread(hr, 0)\n",
    "    lrf = cv2.imread(lr, 0)\n",
    "    srf = cv2.imread(sr, 0)\n",
    "    #if (hrf.max() > hrf.min()):\n",
    "    #    hrf = (hrf - hrf.min())/ (hrf.max() - hrf.min())\n",
    "    lrf = (lrf - lrf.min())/ (lrf.max() - lrf.min())\n",
    "    srf = (srf - srf.min())/ (srf.max() - srf.min())\n",
    "    #print(lr.replace('noisy/','noisy_norm/'),sr.replace('model/','model_norm/'))\n",
    "    #cv2.imwrite(lr.replace('noisy/','noisy_norm/'),lrf*255.)\n",
    "    #cv2.imwrite(sr.replace('model/','model_norm/'),srf*255.)\n",
    "    #hrdata.append(hrf)\n",
    "    srdata.append(srf)\n",
    "    lrdata.append(lrf)\n",
    "#hrdata = np.array(hrdata)\n",
    "lrdata = np.array(lrdata)\n",
    "srdata = np.array(srdata)"
   ]
  },
  {
   "cell_type": "code",
   "execution_count": 27,
   "metadata": {},
   "outputs": [
    {
     "name": "stdout",
     "output_type": "stream",
     "text": [
      "/home/phacou/MWCNNv2/MWCNN_code/experiment/MWCNN_DeNoising/ucsdLED1k_results/\n"
     ]
    }
   ],
   "source": [
    "case_addr = model_addr + noise\n",
    "HRpngs = sorted(glob.glob(os.path.join(case_addr,'GT/*HR.png')))\n",
    "hrdata = []\n",
    "print(case_addr)\n",
    "for hr in HRpngs:\n",
    "    hrf = cv2.imread(hr, 0)\n",
    "    hrdata.append(hrf)\n",
    "hrdata = np.array(hrdata)"
   ]
  },
  {
   "cell_type": "code",
   "execution_count": 28,
   "metadata": {},
   "outputs": [],
   "source": [
    "np.save('lr_'+sample+'_vol_'+noise+'.npy',lrdata)\n",
    "np.save('sr_'+sample+'_vol_'+noise+'.npy',srdata)\n",
    "np.save('gt_'+sample+'_vol_'+noise+'.npy',hrdata)"
   ]
  },
  {
   "cell_type": "code",
   "execution_count": null,
   "metadata": {},
   "outputs": [],
   "source": [
    "ipyvolume.figure()\n",
    "ipyvolume.volshow(lrdata[:,:,:],level=levels[sample]['LR'][noise],opacity=opacities[sample]['LR'][noise])\n",
    "ipyvolume.show()"
   ]
  },
  {
   "cell_type": "code",
   "execution_count": null,
   "metadata": {},
   "outputs": [],
   "source": [
    "ipyvolume.view(azimuth=90, elevation=5, distance=3)"
   ]
  },
  {
   "cell_type": "code",
   "execution_count": null,
   "metadata": {},
   "outputs": [],
   "source": [
    "ipyvolume.pylab.save(model_addr + noise + '_lr_3dfig.html')\n",
    "ipyvolume.pylab.savefig(model_addr +noise+'_lr_3dfig.png',1280,720)"
   ]
  },
  {
   "cell_type": "code",
   "execution_count": null,
   "metadata": {},
   "outputs": [],
   "source": [
    "ipyvolume.figure()\n",
    "ipyvolume.volshow(srdata[:,:,:],level=levels[sample]['SR'][noise],opacity=opacities[sample]['SR'][noise])\n",
    "ipyvolume.show()"
   ]
  },
  {
   "cell_type": "code",
   "execution_count": null,
   "metadata": {},
   "outputs": [],
   "source": [
    "ipyvolume.view(azimuth=90, elevation=5, distance=3)"
   ]
  },
  {
   "cell_type": "markdown",
   "metadata": {},
   "source": [
    "## Convert data into MATLAB"
   ]
  },
  {
   "cell_type": "code",
   "execution_count": null,
   "metadata": {},
   "outputs": [],
   "source": [
    "import scipy.io as sio"
   ]
  },
  {
   "cell_type": "code",
   "execution_count": null,
   "metadata": {},
   "outputs": [],
   "source": [
    "noise = '20'"
   ]
  },
  {
   "cell_type": "code",
   "execution_count": null,
   "metadata": {},
   "outputs": [],
   "source": [
    "model_addr = '/home/phacou/MWCNNv2/MWCNN_code/experiment/'+experiment+'/'+sample+'_results/'\n",
    "case_addr = model_addr + noise\n",
    "HRpngs = sorted(glob.glob(case_addr+'/GT/*HR.png'))\n",
    "LRpngs = sorted(glob.glob(case_addr+'/noisy/*LR.png'))\n",
    "SRpngs = sorted(glob.glob(case_addr+'/model/*SR.png'))\n",
    "hrdata = []\n",
    "lrdata = []\n",
    "srdata = []\n",
    "for (hr,lr,sr) in zip(HRpngs,LRpngs,SRpngs):\n",
    "    #hrf = cv2.imread(hr, 0)\n",
    "    lrf = cv2.imread(lr, 0)\n",
    "    srf = cv2.imread(sr, 0)\n",
    "    #if (hrf.max() > hrf.min()):\n",
    "    #    hrf = (hrf - hrf.min())/ (hrf.max() - hrf.min())\n",
    "    lrf = (lrf - lrf.min())/ (lrf.max() - lrf.min())\n",
    "    srf = (srf - srf.min())/ (srf.max() - srf.min())\n",
    "    hrdata.append(hrf)\n",
    "    srdata.append(srf)\n",
    "    lrdata.append(lrf)\n",
    "hrdata = np.array(hrdata)\n",
    "lrdata = np.array(lrdata)\n",
    "srdata = np.array(srdata)"
   ]
  },
  {
   "cell_type": "code",
   "execution_count": null,
   "metadata": {},
   "outputs": [],
   "source": [
    "#sio.savemat('U900_15_HR.mat',{'vect':hrdata})\n",
    "sio.savemat('U900_'+noise+'_LR.mat',{'vect':lrdata})\n",
    "sio.savemat('U900_'+noise+'_SR.mat',{'vect':srdata})"
   ]
  },
  {
   "cell_type": "markdown",
   "metadata": {},
   "source": [
    "## Plot averaged slided results"
   ]
  },
  {
   "cell_type": "code",
   "execution_count": null,
   "metadata": {},
   "outputs": [],
   "source": [
    "noises = ['10','15','20','25']#,'30','40']"
   ]
  },
  {
   "cell_type": "markdown",
   "metadata": {},
   "source": [
    "## Generate the output results by averaging slided outputs"
   ]
  },
  {
   "cell_type": "code",
   "execution_count": null,
   "metadata": {},
   "outputs": [],
   "source": [
    "slide = 10 # number of pixels slided\n",
    "nslide = 31 # number of slided frames within each input frame (390 - 90)/10 + 1\n",
    "folder_prefix = 'experiment/MWCNN_DeNoising/ucsd900all_'\n",
    "for n in noises:\n",
    "    data_folder = folder_prefix+n+'/'\n",
    "    print('Data folder: {}'.format(data_folder))\n",
    "    pngs = glob.glob(os.path.join(data_folder,'*SR.png'))\n",
    "    inds = list(map(lambda x: int(x.split('/')[-1].split('_')[2]),pngs))\n",
    "    png_files = [files for _,files in sorted(zip(inds,pngs))]\n",
    "    #print(os.path.join(data_folders,'*.png'),pngs)\n",
    "    slide = 10\n",
    "    nslide = 31\n",
    "    full_img = np.zeros((90,390,82),dtype=float)\n",
    "    full_img_int = np.zeros((90,390,82),dtype=int)\n",
    "    for nimg, pngf in enumerate(png_files):\n",
    "        img = np.array(cv2.resize(cv2.imread(pngf),(90,90)))[:,:,0]\n",
    "        #img = (img - img.min()) / (img.max() - img.min())\n",
    "        nframe = int(nimg / nslide)\n",
    "        ns = nimg - nframe * nslide\n",
    "        full_img[:,(ns*slide):(ns*slide+90),nframe] = full_img[:,(ns*slide):(ns*slide+90),nframe] + img\n",
    "        full_img_int[:,(ns*slide):(ns*slide+90),nframe] = full_img_int[:,(ns*slide):(ns*slide+90),nframe] + np.ones((90,90),dtype=int)\n",
    "        #print(pngf, nframe, ns, img.shape)\n",
    "    avg_img = full_img / full_img_int\n",
    "    np.save('output_ucsd_vol_'+n+'.npy', avg_img)\n",
    "    "
   ]
  },
  {
   "cell_type": "markdown",
   "metadata": {},
   "source": [
    "## For comparison generate the input data, also target data"
   ]
  },
  {
   "cell_type": "code",
   "execution_count": null,
   "metadata": {},
   "outputs": [],
   "source": [
    "input_folder = '../data/crop_all_letters/'\n",
    "print('Input folder: {}'.format(input_folder))\n",
    "target_jpgs = sorted(glob.glob(os.path.join(input_folder,'*_'+noises[0]+'_*target.jpg')))\n",
    "target_vol = []\n",
    "for tar in target_jpgs:\n",
    "    target_vol.append(cv2.imread(tar))\n",
    "target_vol = np.transpose(target_vol,[1,2,0,3])[:,:,:,0]\n",
    "np.save('result_vol_npys/target_ucsd_vol.npy',target_vol)\n",
    "for noise in noises:\n",
    "    input_jpgs = sorted(glob.glob(os.path.join(input_folder,'*_'+noise+'_*input.jpg')))\n",
    "    input_vol = []\n",
    "    for inp,tar in zip(input_jpgs,target_jpgs):\n",
    "        ind = int(inp.split('/')[-1].split('_')[0]) - 1\n",
    "        input_vol.append(cv2.imread(inp))\n",
    "        #print(ind,inp,tar)\n",
    "    input_vol = np.transpose(input_vol,[1,2,0,3])[:,:,:,0]\n",
    "    np.save('result_vol_npys/input_ucsd_vol_'+noise+'.npy',input_vol)"
   ]
  },
  {
   "cell_type": "code",
   "execution_count": null,
   "metadata": {},
   "outputs": [],
   "source": [
    "input_folder = '../data/crop_all_letters/'\n",
    "print('Input folder: {}'.format(input_folder))\n",
    "target_jpgs = sorted(glob.glob(os.path.join(input_folder,'*_'+noises[0]+'_*target.jpg')))\n",
    "target_vol = []\n",
    "for tar in target_jpgs:\n",
    "    target_vol.append(cv2.imread(tar))\n",
    "target_vol = np.transpose(target_vol,[1,2,0,3])[:,:,:,0]\n",
    "np.save('result_vol_npys/target_ucsd_vol.npy',target_vol)\n",
    "for noise in noises:\n",
    "    input_jpgs = sorted(glob.glob(os.path.join(input_folder,'*_'+noise+'_*input.jpg')))\n",
    "    input_vol = []\n",
    "    for inp,tar in zip(input_jpgs,target_jpgs):\n",
    "        ind = int(inp.split('/')[-1].split('_')[0]) - 1\n",
    "        input_vol.append(cv2.imread(inp))\n",
    "        #print(ind,inp,tar)\n",
    "    input_vol = np.transpose(input_vol,[1,2,0,3])[:,:,:,0]\n",
    "    np.save('result_vol_npys/input_ucsd_vol_'+noise+'.npy',input_vol)"
   ]
  },
  {
   "cell_type": "code",
   "execution_count": 130,
   "metadata": {},
   "outputs": [],
   "source": [
    "for noise in ['10','15','20','25','30','40']:\n",
    "    data = np.load('result_vol_npys/output_'+sample+'_vol_'+noise+'.npy')\n",
    "    data = np.flip(data,0)\n",
    "    data = np.flip(data,2)\n",
    "    data = np.transpose(data, (2,0,1))\n",
    "    np.save('result_vol_npys/output_'+sample+'flipped_vol_'+noise+'.npy',data)\n",
    "    data = np.load('result_vol_npys/input_'+sample+'_vol_'+noise+'.npy')\n",
    "    data = np.flip(data,0)\n",
    "    data = np.flip(data,2)\n",
    "    data = np.transpose(data, (2,0,1))\n",
    "    np.save('result_vol_npys/input_'+sample+'flipped_vol_'+noise+'.npy',data)\n",
    "data = np.load('result_vol_npys/gt_'+sample+'_vol.npy')\n",
    "data = np.flip(data,0)\n",
    "data = np.flip(data,2)\n",
    "data = np.transpose(data, (2,0,1))\n",
    "np.save('result_vol_npys/gt_'+sample+'flipped_vol.npy',data)"
   ]
  },
  {
   "cell_type": "markdown",
   "metadata": {},
   "source": [
    "## Volume Rendering"
   ]
  },
  {
   "cell_type": "code",
   "execution_count": 163,
   "metadata": {},
   "outputs": [],
   "source": [
    "levels = {\n",
    "\n",
    "    'UCSD900':\n",
    "         {  'SR': { '10': [0.10, 0.35], '15': [0.10, 0.35], '20': [0.10, 0.35], '25': [0.10, 0.35], '30': [0.10, 0.35], '40': [0.10, 0.35]},\n",
    "            'LR': { '10': [0.20, 0.45], '15': [0.20, 0.60], '20': [0.20, 0.65], '25': [0.20, 0.75], '30': [0.20, 0.80], '40': [0.20, 0.80]},\n",
    "            'HR': [1.00, 0.75]\n",
    "         },\n",
    "    'UCSD900flipped':\n",
    "         {  'SR': { '10': [0.35, 0.10], '15': [0.35, 0.10], '20': [0.35, 0.10], '25': [0.35, 0.10], '30': [0.35, 0.10], '40': [0.35, 0.10]},\n",
    "            'LR': { '10': [0.35, 0.20], '15': [0.60, 0.20], '20': [0.65, 0.20], '25': [0.75, 0.20], '30': [0.80, 0.20], '40': [0.80, 0.20]},\n",
    "            'HR': [1.00, 0.75]\n",
    "         },\n",
    "    'S1':\n",
    "         {  'SR': { '10': [0.35, 0.00], '15': [0.35, 0.00], '20': [0.35, 0.00], '25': [0.35, 0.00] },\n",
    "            'LR': { '10': [0.50, 0.00], '15': [0.50, 0.00], '20': [0.50, 0.00], '25': [0.50, 0.00] },\n",
    "            'HR': [1.00, 0.75]\n",
    "         },\n",
    "    'S2':\n",
    "         {  'SR': { '10': [0.35, 0.00], '15': [0.35, 0.00], '20': [0.35, 0.00], '25': [0.35, 0.00] },\n",
    "            'LR': { '10': [0.50, 0.00], '15': [0.50, 0.00], '20': [0.50, 0.00], '25': [0.50, 0.00] },\n",
    "            'HR': [1.00, 0.75]\n",
    "         },\n",
    "    'S3':\n",
    "         {  'SR': { '10': [0.35, 0.00], '15': [0.35, 0.00], '20': [0.35, 0.00], '25': [0.35, 0.00] },\n",
    "            'LR': { '10': [0.50, 0.00], '15': [0.50, 0.00], '20': [0.50, 0.00], '25': [0.50, 0.00] },\n",
    "            'HR': [1.00, 0.75]\n",
    "         }  \n",
    "}\n",
    "\n",
    "opacities = {\n",
    "     'UCSD900':  \n",
    "            { 'SR': { '10': [0.00,0.20,0.00], '15': [0.00,0.20,0.00], '20': [0.00,0.20,0.00], '25': [0.00,0.20,0.00]},\n",
    "              'LR': { '10': [0.00,0.20,0.00], '15': [0.00,0.20,0.00], '20': [0.00,0.20,0.00], '25': [0.00,0.20,0.00]},\n",
    "              'HR': [0.70,0.73,0.00]\n",
    "            },\n",
    "     'UCSD900flipped':  \n",
    "            { 'SR': { '10': [0.20,0.00,0.00], '15': [0.20,0.00,0.00], '20': [0.20,0.00,0.00], '25': [0.20,0.00,0.00], '30': [0.20,0.00,0.00], '40': [0.20,0.00,0.00]},\n",
    "              'LR': { '10': [0.20,0.00,0.00], '15': [0.20,0.00,0.00], '20': [0.20,0.00,0.00], '25': [0.20,0.00,0.00], '30': [0.20,0.00,0.00], '40': [0.20,0.00,0.00]},\n",
    "              'HR': [0.70,0.73,0.00]\n",
    "            },\n",
    "      'S1':\n",
    "            { 'SR': { '10': [0.20,0.00,0.00], '15': [0.20,0.00,0.00], '20': [0.20,0.00,0.00], '25': [0.20,0.00,0.00]},\n",
    "              'LR': { '10': [0.15,0.00,0.00], '15': [0.15,0.00,0.00], '20': [0.15,0.00,0.00], '25': [0.15,0.00,0.00]},\n",
    "              'HR': [0.70,0.73,0.00]\n",
    "            },\n",
    "      'S2':\n",
    "            { 'SR': { '10': [0.20,0.00,0.00], '15': [0.20,0.00,0.00], '20': [0.20,0.00,0.00], '25': [0.20,0.00,0.00]},\n",
    "              'LR': { '10': [0.15,0.00,0.00], '15': [0.15,0.00,0.00], '20': [0.15,0.00,0.00], '25': [0.15,0.00,0.00]},\n",
    "              'HR': [0.70,0.73,0.00]\n",
    "            },\n",
    "       'S3':\n",
    "            { 'SR': { '10': [0.20,0.00,0.00], '15': [0.20,0.00,0.00], '20': [0.20,0.00,0.00], '25': [0.20,0.00,0.00]},\n",
    "              'LR': { '10': [0.15,0.00,0.00], '15': [0.15,0.00,0.00], '20': [0.15,0.00,0.00], '25': [0.15,0.00,0.00]},\n",
    "              'HR': [0.70,0.73,0.00]\n",
    "            },\n",
    "}"
   ]
  },
  {
   "cell_type": "code",
   "execution_count": 135,
   "metadata": {},
   "outputs": [],
   "source": [
    "fig_res = {} # dictionary of result figures\n",
    "fig_inp = {} # dictionary of input figures"
   ]
  },
  {
   "cell_type": "code",
   "execution_count": 136,
   "metadata": {},
   "outputs": [],
   "source": [
    "import pythreejs\n",
    "figcam = pythreejs.PerspectiveCamera(aspect=0.8, fov=46.0, matrixWorldNeedsUpdate=True, position=(1.785528946985704, 1.3757523415625494, 2.412892214337929), projectionMatrix=(2.9448154572796907, 0.0, 0.0, 0.0, 0.0, 2.3558523658237527, 0.0, 0.0, 0.0, 0.0, -1.00010000500025, -1.0, 0.0, 0.0, -0.200010000500025, 0.0), quaternion=(-0.19796316984919116, 0.30892794387643674, 0.08046673488216134, 0.9267681551784899), rotation=(-0.5181948251143776, 0.5713287660544955, 0.3285944197012996, 'XYZ'), scale=(1.0, 1.0, 1.0), up=(-0.27146072492949946, 0.9086713759213286, -0.31721507751364897))"
   ]
  },
  {
   "cell_type": "code",
   "execution_count": 137,
   "metadata": {},
   "outputs": [],
   "source": [
    "#noise = '10'\n",
    "noises = ['10','15','20','25']\n",
    "sample = 'UCSD900flipped'\n",
    "#frame_range = [200,509,0,509]\n",
    "frame_range = [0,90,0,390]\n",
    "opacity = 5.00\n",
    "brightness = 2.00"
   ]
  },
  {
   "cell_type": "code",
   "execution_count": 146,
   "metadata": {},
   "outputs": [
    {
     "data": {
      "application/vnd.jupyter.widget-view+json": {
       "model_id": "89497b3ea86247399dab4d34926268ee",
       "version_major": 2,
       "version_minor": 0
      },
      "text/plain": [
       "VBox(children=(VBox(children=(HBox(children=(Label(value='levels:'), FloatSlider(value=0.35, max=1.0, step=0.0…"
      ]
     },
     "metadata": {},
     "output_type": "display_data"
    }
   ],
   "source": [
    "noise = '10'\n",
    "avg_img = np.load('result_vol_npys/output_'+sample+'_vol_'+noise+'.npy')\n",
    "avg_img = avg_img[:,frame_range[0]:frame_range[1],frame_range[2]:frame_range[3]]\n",
    "mins = avg_img.min(axis=(0,1))\n",
    "maxs = avg_img.max(axis=(0,1))\n",
    "avg_img_norm = (avg_img - mins) / (maxs - mins)\n",
    "fig_res[noise] = ipyvolume.figure(camera = figcam)\n",
    "ipyvolume.volshow(avg_img_norm[:,:,:],level=levels[sample]['SR'][noise],opacity=opacities[sample]['SR'][noise])\n",
    "#ipyvolume.selector_default()\n",
    "fig_res[noise].volumes[0].opacity_scale = opacity\n",
    "fig_res[noise].volumes[0].brightness = brightness\n",
    "ipyvolume.pylab.xyzlabel(' ', ' ', ' ')\n",
    "ipyvolume.show()"
   ]
  },
  {
   "cell_type": "code",
   "execution_count": 147,
   "metadata": {},
   "outputs": [
    {
     "data": {
      "application/vnd.jupyter.widget-view+json": {
       "model_id": "0cfcd6e74c2e4ab68c0b9a87fa748a74",
       "version_major": 2,
       "version_minor": 0
      },
      "text/plain": [
       "Output()"
      ]
     },
     "metadata": {},
     "output_type": "display_data"
    }
   ],
   "source": [
    "ipyvolume.pylab.savefig('output_3dfig_'+sample+'_'+noise+'.png',width=1280,height=720,fig=fig_res[noise])"
   ]
  },
  {
   "cell_type": "code",
   "execution_count": 148,
   "metadata": {},
   "outputs": [
    {
     "data": {
      "application/vnd.jupyter.widget-view+json": {
       "model_id": "9a4787f584094a7db73c367ce749b828",
       "version_major": 2,
       "version_minor": 0
      },
      "text/plain": [
       "VBox(children=(VBox(children=(HBox(children=(Label(value='levels:'), FloatSlider(value=0.35, max=1.0, step=0.0…"
      ]
     },
     "metadata": {},
     "output_type": "display_data"
    }
   ],
   "source": [
    "input_vol = np.load('result_vol_npys/input_'+sample+'_vol_'+noise+'.npy')\n",
    "input_vol = input_vol[:,frame_range[0]:frame_range[1],frame_range[2]:frame_range[3]]\n",
    "mins = input_vol.min(axis=(0,1))\n",
    "maxs = input_vol.max(axis=(0,1))\n",
    "input_vol_norm = (input_vol - mins) / (maxs - mins)\n",
    "fig_inp[noise] = ipyvolume.figure(camera = figcam)\n",
    "ipyvolume.volshow(input_vol_norm[:,:,:],level=levels[sample]['LR'][noise],opacity=opacities[sample]['LR'][noise])\n",
    "fig_inp[noise].volumes[0].opacity_scale = opacity\n",
    "fig_inp[noise].volumes[0].brightness = brightness\n",
    "ipyvolume.pylab.xyzlabel(' ', ' ', ' ')\n",
    "ipyvolume.show()"
   ]
  },
  {
   "cell_type": "code",
   "execution_count": 149,
   "metadata": {},
   "outputs": [
    {
     "data": {
      "application/vnd.jupyter.widget-view+json": {
       "model_id": "142548a2c13240109833dfde4232990a",
       "version_major": 2,
       "version_minor": 0
      },
      "text/plain": [
       "Output()"
      ]
     },
     "metadata": {},
     "output_type": "display_data"
    }
   ],
   "source": [
    "ipyvolume.pylab.savefig('input_3dfig_'+sample+'_'+noise+'.png',width=1280,height=720,fig=fig_inp[noise])"
   ]
  },
  {
   "cell_type": "code",
   "execution_count": 150,
   "metadata": {},
   "outputs": [
    {
     "data": {
      "application/vnd.jupyter.widget-view+json": {
       "model_id": "87a59ffb39ab48c18c6b8a4f6776fcb7",
       "version_major": 2,
       "version_minor": 0
      },
      "text/plain": [
       "VBox(children=(VBox(children=(HBox(children=(Label(value='levels:'), FloatSlider(value=0.35, max=1.0, step=0.0…"
      ]
     },
     "metadata": {},
     "output_type": "display_data"
    }
   ],
   "source": [
    "noise = '15'\n",
    "avg_img = np.load('result_vol_npys/output_'+sample+'_vol_'+noise+'.npy')\n",
    "avg_img = avg_img[:,frame_range[0]:frame_range[1],frame_range[2]:frame_range[3]]\n",
    "mins = avg_img.min(axis=(0,1))\n",
    "maxs = avg_img.max(axis=(0,1))\n",
    "avg_img_norm = (avg_img - mins) / (maxs - mins)\n",
    "fig_res[noise] = ipyvolume.figure(camera = figcam)\n",
    "ipyvolume.volshow(avg_img_norm[:,:,:],level=levels[sample]['SR'][noise],opacity=opacities[sample]['SR'][noise])\n",
    "fig_res[noise].volumes[0].opacity_scale = opacity\n",
    "fig_res[noise].volumes[0].brightness = brightness\n",
    "ipyvolume.pylab.xyzlabel(' ', ' ', ' ')\n",
    "ipyvolume.show()"
   ]
  },
  {
   "cell_type": "code",
   "execution_count": 151,
   "metadata": {},
   "outputs": [
    {
     "data": {
      "application/vnd.jupyter.widget-view+json": {
       "model_id": "0b5bc8ae8d5a4b9a8a4b59b051a594fe",
       "version_major": 2,
       "version_minor": 0
      },
      "text/plain": [
       "Output()"
      ]
     },
     "metadata": {},
     "output_type": "display_data"
    }
   ],
   "source": [
    "ipyvolume.pylab.savefig('output_3dfig_'+sample+'_'+noise+'.png',width=1280,height=720,fig=fig_res[noise])"
   ]
  },
  {
   "cell_type": "code",
   "execution_count": 152,
   "metadata": {},
   "outputs": [
    {
     "data": {
      "application/vnd.jupyter.widget-view+json": {
       "model_id": "a68cb394071441dd9021353cd4b03587",
       "version_major": 2,
       "version_minor": 0
      },
      "text/plain": [
       "VBox(children=(VBox(children=(HBox(children=(Label(value='levels:'), FloatSlider(value=0.6, max=1.0, step=0.00…"
      ]
     },
     "metadata": {},
     "output_type": "display_data"
    }
   ],
   "source": [
    "input_vol = np.load('result_vol_npys/input_'+sample+'_vol_'+noise+'.npy')\n",
    "input_vol = input_vol[:,frame_range[0]:frame_range[1],frame_range[2]:frame_range[3]]\n",
    "mins = input_vol.min(axis=(0,1))\n",
    "maxs = input_vol.max(axis=(0,1))\n",
    "input_vol_norm = (input_vol - mins) / (maxs - mins)\n",
    "fig_inp[noise] = ipyvolume.figure(camera = figcam)\n",
    "ipyvolume.volshow(input_vol_norm[:,:,:],level=levels[sample]['LR'][noise],opacity=opacities[sample]['LR'][noise])\n",
    "fig_inp[noise].volumes[0].opacity_scale = opacity\n",
    "fig_inp[noise].volumes[0].brightness = brightness\n",
    "ipyvolume.pylab.xyzlabel(' ', ' ', ' ')\n",
    "ipyvolume.show()"
   ]
  },
  {
   "cell_type": "code",
   "execution_count": 153,
   "metadata": {},
   "outputs": [
    {
     "data": {
      "application/vnd.jupyter.widget-view+json": {
       "model_id": "760d530304e94dd0a90b65ebfa867c10",
       "version_major": 2,
       "version_minor": 0
      },
      "text/plain": [
       "Output()"
      ]
     },
     "metadata": {},
     "output_type": "display_data"
    }
   ],
   "source": [
    "ipyvolume.pylab.savefig('input_3dfig_'+sample+'_'+noise+'.png',width=1280,height=720,fig=fig_inp[noise])"
   ]
  },
  {
   "cell_type": "code",
   "execution_count": 154,
   "metadata": {},
   "outputs": [
    {
     "data": {
      "application/vnd.jupyter.widget-view+json": {
       "model_id": "6650edcc10254230998bd267b8d37fea",
       "version_major": 2,
       "version_minor": 0
      },
      "text/plain": [
       "VBox(children=(VBox(children=(HBox(children=(Label(value='levels:'), FloatSlider(value=0.35, max=1.0, step=0.0…"
      ]
     },
     "metadata": {},
     "output_type": "display_data"
    }
   ],
   "source": [
    "noise = '20'\n",
    "avg_img = np.load('result_vol_npys/output_'+sample+'_vol_'+noise+'.npy')\n",
    "avg_img = avg_img[:,frame_range[0]:frame_range[1],frame_range[2]:frame_range[3]]\n",
    "mins = avg_img.min(axis=(0,1))\n",
    "maxs = avg_img.max(axis=(0,1))\n",
    "avg_img_norm = (avg_img - mins) / (maxs - mins)\n",
    "fig_res[noise] = ipyvolume.figure(camera = figcam)\n",
    "ipyvolume.volshow(avg_img_norm[:,:,:],level=levels[sample]['SR'][noise],opacity=opacities[sample]['SR'][noise])\n",
    "fig_res[noise].volumes[0].opacity_scale = opacity\n",
    "fig_res[noise].volumes[0].brightness = brightness\n",
    "ipyvolume.pylab.xyzlabel(' ', ' ', ' ')\n",
    "ipyvolume.show()"
   ]
  },
  {
   "cell_type": "code",
   "execution_count": 155,
   "metadata": {},
   "outputs": [
    {
     "data": {
      "application/vnd.jupyter.widget-view+json": {
       "model_id": "907c9f94833143948535461343b6ca1f",
       "version_major": 2,
       "version_minor": 0
      },
      "text/plain": [
       "Output()"
      ]
     },
     "metadata": {},
     "output_type": "display_data"
    }
   ],
   "source": [
    "ipyvolume.pylab.savefig('output_3dfig_'+sample+'_'+noise+'.png',width=1280,height=720,fig=fig_res[noise])"
   ]
  },
  {
   "cell_type": "code",
   "execution_count": 156,
   "metadata": {},
   "outputs": [
    {
     "data": {
      "application/vnd.jupyter.widget-view+json": {
       "model_id": "7d15a3d3b5394e6c8b152d8ea9c85214",
       "version_major": 2,
       "version_minor": 0
      },
      "text/plain": [
       "VBox(children=(VBox(children=(HBox(children=(Label(value='levels:'), FloatSlider(value=0.65, max=1.0, step=0.0…"
      ]
     },
     "metadata": {},
     "output_type": "display_data"
    }
   ],
   "source": [
    "input_vol = np.load('result_vol_npys/input_'+sample+'_vol_'+noise+'.npy')\n",
    "input_vol = input_vol[:,frame_range[0]:frame_range[1],frame_range[2]:frame_range[3]]\n",
    "mins = input_vol.min(axis=(0,1))\n",
    "maxs = input_vol.max(axis=(0,1))\n",
    "input_vol_norm = (input_vol - mins) / (maxs - mins)\n",
    "fig_inp[noise] = ipyvolume.figure(camera = figcam)\n",
    "ipyvolume.volshow(input_vol_norm[:,:,:],level=levels[sample]['LR'][noise],opacity=opacities[sample]['LR'][noise])\n",
    "fig_inp[noise].volumes[0].opacity_scale = opacity\n",
    "fig_inp[noise].volumes[0].brightness = brightness\n",
    "ipyvolume.pylab.xyzlabel(' ', ' ', ' ')\n",
    "ipyvolume.show()"
   ]
  },
  {
   "cell_type": "code",
   "execution_count": 157,
   "metadata": {},
   "outputs": [
    {
     "data": {
      "application/vnd.jupyter.widget-view+json": {
       "model_id": "1b42df2e4e824bf8a71e5cabf0942ef5",
       "version_major": 2,
       "version_minor": 0
      },
      "text/plain": [
       "Output()"
      ]
     },
     "metadata": {},
     "output_type": "display_data"
    }
   ],
   "source": [
    "ipyvolume.pylab.savefig('input_3dfig_'+sample+'_'+noise+'.png',width=1280,height=720,fig=fig_inp[noise])"
   ]
  },
  {
   "cell_type": "code",
   "execution_count": 158,
   "metadata": {},
   "outputs": [
    {
     "data": {
      "application/vnd.jupyter.widget-view+json": {
       "model_id": "37c52c20376e4ce48321e1366b807636",
       "version_major": 2,
       "version_minor": 0
      },
      "text/plain": [
       "VBox(children=(VBox(children=(HBox(children=(Label(value='levels:'), FloatSlider(value=0.35, max=1.0, step=0.0…"
      ]
     },
     "metadata": {},
     "output_type": "display_data"
    }
   ],
   "source": [
    "noise = '25'\n",
    "avg_img = np.load('result_vol_npys/output_'+sample+'_vol_'+noise+'.npy')\n",
    "avg_img = avg_img[:,frame_range[0]:frame_range[1],frame_range[2]:frame_range[3]]\n",
    "mins = avg_img.min(axis=(0,1))\n",
    "maxs = avg_img.max(axis=(0,1))\n",
    "avg_img_norm = (avg_img - mins) / (maxs - mins)\n",
    "fig_res[noise] = ipyvolume.figure(camera = figcam,opacity_scale = 1.58)\n",
    "ipyvolume.volshow(avg_img_norm[:,:,:],level=levels[sample]['SR'][noise],opacity=opacities[sample]['SR'][noise])\n",
    "fig_res[noise].volumes[0].opacity_scale = opacity\n",
    "fig_res[noise].volumes[0].brightness = brightness\n",
    "ipyvolume.pylab.xyzlabel(' ', ' ', ' ')\n",
    "ipyvolume.show()"
   ]
  },
  {
   "cell_type": "code",
   "execution_count": 159,
   "metadata": {},
   "outputs": [
    {
     "data": {
      "application/vnd.jupyter.widget-view+json": {
       "model_id": "d08c5e19275a4e0287b7fb9e9358e42a",
       "version_major": 2,
       "version_minor": 0
      },
      "text/plain": [
       "Output()"
      ]
     },
     "metadata": {},
     "output_type": "display_data"
    }
   ],
   "source": [
    "ipyvolume.pylab.savefig('output_3dfig_'+sample+'_'+noise+'.png',width=1280,height=720,fig=fig_res[noise])"
   ]
  },
  {
   "cell_type": "code",
   "execution_count": 160,
   "metadata": {},
   "outputs": [
    {
     "data": {
      "application/vnd.jupyter.widget-view+json": {
       "model_id": "60dd7a9501284951874d631ddf6cfd63",
       "version_major": 2,
       "version_minor": 0
      },
      "text/plain": [
       "VBox(children=(VBox(children=(HBox(children=(Label(value='levels:'), FloatSlider(value=0.75, max=1.0, step=0.0…"
      ]
     },
     "metadata": {},
     "output_type": "display_data"
    }
   ],
   "source": [
    "input_vol = np.load('result_vol_npys/input_'+sample+'_vol_'+noise+'.npy')\n",
    "input_vol = input_vol[:,frame_range[0]:frame_range[1],frame_range[2]:frame_range[3]]\n",
    "mins = input_vol.min(axis=(0,1))\n",
    "maxs = input_vol.max(axis=(0,1))\n",
    "input_vol_norm = (input_vol - mins) / (maxs - mins)\n",
    "fig_inp[noise] = ipyvolume.figure(camera = figcam)\n",
    "ipyvolume.volshow(input_vol_norm[:,:,:],level=levels[sample]['LR'][noise],opacity=opacities[sample]['LR'][noise])\n",
    "fig_inp[noise].volumes[0].opacity_scale = opacity\n",
    "fig_inp[noise].volumes[0].brightness = brightness\n",
    "ipyvolume.pylab.xyzlabel(' ', ' ', ' ')\n",
    "ipyvolume.show()"
   ]
  },
  {
   "cell_type": "code",
   "execution_count": 161,
   "metadata": {},
   "outputs": [
    {
     "data": {
      "application/vnd.jupyter.widget-view+json": {
       "model_id": "174396f33c8e458d8c884c444ed5184c",
       "version_major": 2,
       "version_minor": 0
      },
      "text/plain": [
       "Output()"
      ]
     },
     "metadata": {},
     "output_type": "display_data"
    }
   ],
   "source": [
    "ipyvolume.pylab.savefig('input_3dfig_'+sample+'_'+noise+'.png',width=1280,height=720,fig=fig_inp[noise])"
   ]
  },
  {
   "cell_type": "code",
   "execution_count": 169,
   "metadata": {},
   "outputs": [
    {
     "data": {
      "application/vnd.jupyter.widget-view+json": {
       "model_id": "a0006fa5b80841d7b723647aa8387236",
       "version_major": 2,
       "version_minor": 0
      },
      "text/plain": [
       "VBox(children=(VBox(children=(HBox(children=(Label(value='levels:'), FloatSlider(value=0.35, max=1.0, step=0.0…"
      ]
     },
     "metadata": {},
     "output_type": "display_data"
    }
   ],
   "source": [
    "noise = '30'\n",
    "avg_img = np.load('result_vol_npys/output_'+sample+'_vol_'+noise+'.npy')\n",
    "avg_img = avg_img[:,frame_range[0]:frame_range[1],frame_range[2]:frame_range[3]]\n",
    "mins = avg_img.min(axis=(0,1))\n",
    "maxs = avg_img.max(axis=(0,1))\n",
    "avg_img_norm = (avg_img - mins) / (maxs - mins)\n",
    "fig_res[noise] = ipyvolume.figure(camera = figcam)\n",
    "ipyvolume.volshow(avg_img_norm[:,:,:],level=levels[sample]['SR'][noise],opacity=opacities[sample]['SR'][noise])\n",
    "fig_res[noise].volumes[0].opacity_scale = opacity\n",
    "fig_res[noise].volumes[0].brightness = brightness\n",
    "ipyvolume.pylab.xyzlabel(' ', ' ', ' ')\n",
    "ipyvolume.show()"
   ]
  },
  {
   "cell_type": "code",
   "execution_count": 170,
   "metadata": {},
   "outputs": [
    {
     "data": {
      "application/vnd.jupyter.widget-view+json": {
       "model_id": "c979fe33f2824a9b8fd327d34a648bb1",
       "version_major": 2,
       "version_minor": 0
      },
      "text/plain": [
       "Output()"
      ]
     },
     "metadata": {},
     "output_type": "display_data"
    }
   ],
   "source": [
    "ipyvolume.pylab.savefig('input_3dfig_'+sample+'_'+noise+'.png',width=1280,height=720,fig=fig_res[noise])"
   ]
  },
  {
   "cell_type": "code",
   "execution_count": 171,
   "metadata": {},
   "outputs": [
    {
     "data": {
      "application/vnd.jupyter.widget-view+json": {
       "model_id": "c787226368d44885b578442b9e606d92",
       "version_major": 2,
       "version_minor": 0
      },
      "text/plain": [
       "VBox(children=(VBox(children=(HBox(children=(Label(value='levels:'), FloatSlider(value=0.8, max=1.0, step=0.00…"
      ]
     },
     "metadata": {},
     "output_type": "display_data"
    }
   ],
   "source": [
    "input_vol = np.load('result_vol_npys/input_'+sample+'_vol_'+noise+'.npy')\n",
    "input_vol = input_vol[:,frame_range[0]:frame_range[1],frame_range[2]:frame_range[3]]\n",
    "mins = input_vol.min(axis=(0,1))\n",
    "maxs = input_vol.max(axis=(0,1))\n",
    "input_vol_norm = (input_vol - mins) / (maxs - mins)\n",
    "fig_inp[noise] = ipyvolume.figure(camera = figcam)\n",
    "ipyvolume.volshow(input_vol_norm[:,:,:],level=levels[sample]['LR'][noise],opacity=opacities[sample]['LR'][noise])\n",
    "fig_inp[noise].volumes[0].opacity_scale = opacity\n",
    "fig_inp[noise].volumes[0].brightness = brightness\n",
    "ipyvolume.pylab.xyzlabel(' ', ' ', ' ')\n",
    "ipyvolume.show()"
   ]
  },
  {
   "cell_type": "code",
   "execution_count": 172,
   "metadata": {},
   "outputs": [
    {
     "data": {
      "application/vnd.jupyter.widget-view+json": {
       "model_id": "fb20b8417eca416fadc356cc29340a22",
       "version_major": 2,
       "version_minor": 0
      },
      "text/plain": [
       "Output()"
      ]
     },
     "metadata": {},
     "output_type": "display_data"
    }
   ],
   "source": [
    "ipyvolume.pylab.savefig('input_3dfig_'+sample+'_'+noise+'.png',width=1280,height=720,fig=fig_inp[noise])"
   ]
  },
  {
   "cell_type": "code",
   "execution_count": 173,
   "metadata": {},
   "outputs": [
    {
     "data": {
      "application/vnd.jupyter.widget-view+json": {
       "model_id": "38ef91f53f2e4e3f92c4d8deb180a6a2",
       "version_major": 2,
       "version_minor": 0
      },
      "text/plain": [
       "VBox(children=(VBox(children=(HBox(children=(Label(value='levels:'), FloatSlider(value=0.35, max=1.0, step=0.0…"
      ]
     },
     "metadata": {},
     "output_type": "display_data"
    }
   ],
   "source": [
    "noise = '40'\n",
    "avg_img = np.load('result_vol_npys/output_'+sample+'_vol_'+noise+'.npy')\n",
    "avg_img = avg_img[:,frame_range[0]:frame_range[1],frame_range[2]:frame_range[3]]\n",
    "mins = avg_img.min(axis=(0,1))\n",
    "maxs = avg_img.max(axis=(0,1))\n",
    "avg_img_norm = (avg_img - mins) / (maxs - mins)\n",
    "fig_res[noise] = ipyvolume.figure(camera = figcam)\n",
    "ipyvolume.volshow(avg_img_norm[:,:,:],level=levels[sample]['SR'][noise],opacity=opacities[sample]['SR'][noise])\n",
    "fig_res[noise].volumes[0].opacity_scale = opacity\n",
    "fig_res[noise].volumes[0].brightness = brightness\n",
    "ipyvolume.pylab.xyzlabel(' ', ' ', ' ')\n",
    "ipyvolume.show()"
   ]
  },
  {
   "cell_type": "code",
   "execution_count": 174,
   "metadata": {},
   "outputs": [
    {
     "data": {
      "application/vnd.jupyter.widget-view+json": {
       "model_id": "6cec80787d504632b3987b80046a0b36",
       "version_major": 2,
       "version_minor": 0
      },
      "text/plain": [
       "Output()"
      ]
     },
     "metadata": {},
     "output_type": "display_data"
    }
   ],
   "source": [
    "ipyvolume.pylab.savefig('input_3dfig_'+sample+'_'+noise+'.png',width=1280,height=720,fig=fig_res[noise])"
   ]
  },
  {
   "cell_type": "code",
   "execution_count": 175,
   "metadata": {},
   "outputs": [
    {
     "data": {
      "application/vnd.jupyter.widget-view+json": {
       "model_id": "9940928df5e540c28e141682a69d28d4",
       "version_major": 2,
       "version_minor": 0
      },
      "text/plain": [
       "VBox(children=(VBox(children=(HBox(children=(Label(value='levels:'), FloatSlider(value=0.8, max=1.0, step=0.00…"
      ]
     },
     "metadata": {},
     "output_type": "display_data"
    }
   ],
   "source": [
    "input_vol = np.load('result_vol_npys/input_'+sample+'_vol_'+noise+'.npy')\n",
    "input_vol = input_vol[:,frame_range[0]:frame_range[1],frame_range[2]:frame_range[3]]\n",
    "mins = input_vol.min(axis=(0,1))\n",
    "maxs = input_vol.max(axis=(0,1))\n",
    "input_vol_norm = (input_vol - mins) / (maxs - mins)\n",
    "fig_inp[noise] = ipyvolume.figure(camera = figcam)\n",
    "ipyvolume.volshow(input_vol_norm[:,:,:],level=levels[sample]['LR'][noise],opacity=opacities[sample]['LR'][noise])\n",
    "fig_inp[noise].volumes[0].opacity_scale = opacity\n",
    "fig_inp[noise].volumes[0].brightness = brightness\n",
    "ipyvolume.pylab.xyzlabel(' ', ' ', ' ')\n",
    "ipyvolume.show()"
   ]
  },
  {
   "cell_type": "code",
   "execution_count": 176,
   "metadata": {},
   "outputs": [
    {
     "data": {
      "application/vnd.jupyter.widget-view+json": {
       "model_id": "5861bbc77e84419f8a7ed3f7930dfefa",
       "version_major": 2,
       "version_minor": 0
      },
      "text/plain": [
       "Output()"
      ]
     },
     "metadata": {},
     "output_type": "display_data"
    }
   ],
   "source": [
    "ipyvolume.pylab.savefig('input_3dfig_'+sample+'_'+noise+'.png',width=1280,height=720,fig=fig_inp[noise])"
   ]
  },
  {
   "cell_type": "code",
   "execution_count": 177,
   "metadata": {},
   "outputs": [
    {
     "data": {
      "application/vnd.jupyter.widget-view+json": {
       "model_id": "b0d0629fe3f042089dac8872d69ef7ca",
       "version_major": 2,
       "version_minor": 0
      },
      "text/plain": [
       "VBox(children=(VBox(children=(HBox(children=(Label(value='levels:'), FloatSlider(value=0.8, max=1.0, step=0.00…"
      ]
     },
     "metadata": {},
     "output_type": "display_data"
    }
   ],
   "source": [
    "gt_vol = np.load('result_vol_npys/gt_'+sample+'_vol.npy')\n",
    "gt_vol = gt_vol[:,frame_range[0]:frame_range[1],frame_range[2]:frame_range[3]]\n",
    "mins = gt_vol.min(axis=(0,1))\n",
    "maxs = gt_vol.max(axis=(0,1))\n",
    "gt_vol_norm = (gt_vol - mins) / (maxs - mins)\n",
    "fig_gt = ipyvolume.figure(camera = figcam)\n",
    "ipyvolume.volshow(gt_vol_norm[:,:,:],level=levels[sample]['LR'][noise],opacity=opacities[sample]['LR'][noise],specular_exponent=5)\n",
    "fig_gt.volumes[0].opacity_scale = opacity\n",
    "fig_gt.volumes[0].brightness = brightness\n",
    "ipyvolume.pylab.xyzlabel(' ', ' ', ' ')\n",
    "ipyvolume.show()"
   ]
  },
  {
   "cell_type": "code",
   "execution_count": 179,
   "metadata": {},
   "outputs": [
    {
     "data": {
      "application/vnd.jupyter.widget-view+json": {
       "model_id": "86d634d0329d4389b200b215b87d3cf1",
       "version_major": 2,
       "version_minor": 0
      },
      "text/plain": [
       "Output()"
      ]
     },
     "metadata": {},
     "output_type": "display_data"
    }
   ],
   "source": [
    "ipyvolume.pylab.savefig('gt_3dfig_'+sample+'.png',width=1280,height=720,fig = fig_gt)"
   ]
  },
  {
   "cell_type": "markdown",
   "metadata": {},
   "source": [
    "## Convert full UCSD sample data into MATLAB"
   ]
  },
  {
   "cell_type": "code",
   "execution_count": null,
   "metadata": {},
   "outputs": [],
   "source": [
    "for noise in noises:\n",
    "    sr_data = np.load('result_vol_npys/output_ucsd_vol_'+noise+'.npy')\n",
    "    lr_data = np.load('result_vol_npys/input_ucsd_vol_'+noise+'.npy')\n",
    "    mins = sr_data.min(axis=(0,1))\n",
    "    maxs = sr_data.max(axis=(0,1))\n",
    "    sr_data_norm = (sr_data - mins) / (maxs - mins)\n",
    "    mins = lr_data.min(axis=(0,1))\n",
    "    maxs = lr_data.max(axis=(0,1))\n",
    "    lr_data_norm = (lr_data - mins) / (maxs - mins)    \n",
    "    sio.savemat('UCSD900_'+noise+'_LR.mat',{'vect':lr_data})\n",
    "    sio.savemat('UCSD900_'+noise+'_SR.mat',{'vect':sr_data})\n",
    "    sio.savemat('UCSD900_norm_'+noise+'_LR.mat',{'vect':lr_data_norm})\n",
    "    sio.savemat('UCSD900_norm_'+noise+'_SR.mat',{'vect':sr_data_norm})\n",
    "hr_data = np.load('target_ucsd_vol.npy')\n",
    "mins = hr_data.min(axis=(0,1))\n",
    "maxs = hr_data.max(axis=(0,1))\n",
    "hr_data_norm = (hr_data - mins) / (maxs - mins) \n",
    "sio.savemat('UCSD900_HR.mat',{'vect':hr_data})\n",
    "sio.savemat('UCSD900_norm_HR.mat',{'vect':hr_data_norm})"
   ]
  }
 ],
 "metadata": {
  "kernelspec": {
   "display_name": "Python 3",
   "language": "python",
   "name": "python3"
  },
  "language_info": {
   "codemirror_mode": {
    "name": "ipython",
    "version": 3
   },
   "file_extension": ".py",
   "mimetype": "text/x-python",
   "name": "python",
   "nbconvert_exporter": "python",
   "pygments_lexer": "ipython3",
   "version": "3.6.7"
  }
 },
 "nbformat": 4,
 "nbformat_minor": 2
}
