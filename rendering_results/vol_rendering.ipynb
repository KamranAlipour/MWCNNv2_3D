{
 "cells": [
  {
   "cell_type": "code",
   "execution_count": 1,
   "metadata": {},
   "outputs": [],
   "source": [
    "import glob\n",
    "import ipywidgets\n",
    "import ipyvolume\n",
    "import cv2\n",
    "import numpy as np\n",
    "import os\n",
    "import time"
   ]
  },
  {
   "cell_type": "code",
   "execution_count": 2,
   "metadata": {},
   "outputs": [],
   "source": [
    "import pythreejs\n",
    "figcam = pythreejs.PerspectiveCamera(aspect=0.8, fov=46.0, matrixWorldNeedsUpdate=True, position=(1.785528946985704, 1.3757523415625494, 2.412892214337929), projectionMatrix=(2.9448154572796907, 0.0, 0.0, 0.0, 0.0, 2.3558523658237527, 0.0, 0.0, 0.0, 0.0, -1.00010000500025, -1.0, 0.0, 0.0, -0.200010000500025, 0.0), quaternion=(-0.19796316984919116, 0.30892794387643674, 0.08046673488216134, 0.9267681551784899), rotation=(-0.5181948251143776, 0.5713287660544955, 0.3285944197012996, 'XYZ'), scale=(1.0, 1.0, 1.0), up=(-0.27146072492949946, 0.9086713759213286, -0.31721507751364897))"
   ]
  },
  {
   "cell_type": "markdown",
   "metadata": {},
   "source": [
    "## Volume Rendering"
   ]
  },
  {
   "cell_type": "code",
   "execution_count": 3,
   "metadata": {},
   "outputs": [],
   "source": [
    "levels = {\n",
    "\n",
    "    'UCSD900':\n",
    "         {  'SR': { '10': [0.10, 0.35], '15': [0.10, 0.35], '20': [0.10, 0.35], '25': [0.10, 0.35], '30': [0.10, 0.35], '40': [0.10, 0.35]},\n",
    "            'LR': { '10': [0.20, 0.45], '15': [0.20, 0.60], '20': [0.20, 0.65], '25': [0.20, 0.75], '30': [0.20, 0.80], '40': [0.20, 0.80]},\n",
    "            'HR': [1.00, 0.75]\n",
    "         },\n",
    "    'UCSD900flipped':\n",
    "         {  'SR': { '10': [0.35, 0.10], '15': [0.35, 0.10], '20': [0.35, 0.10], '25': [0.35, 0.10], '30': [0.35, 0.10], '40': [0.35, 0.10]},\n",
    "            'LR': { '10': [0.35, 0.20], '15': [0.57, 0.20], '20': [0.65, 0.20], '25': [0.73, 0.20], '30': [0.77, 0.20], '40': [0.77, 0.20]},\n",
    "            'HR': [1.00, 0.75]\n",
    "         },\n",
    "    'S1':\n",
    "         {  'SR': { '10': [0.35, 0.00], '15': [0.35, 0.00], '20': [0.35, 0.00], '25': [0.35, 0.00] },\n",
    "            'LR': { '10': [0.50, 0.00], '15': [0.50, 0.00], '20': [0.50, 0.00], '25': [0.50, 0.00] },\n",
    "            'HR': [1.00, 0.75]\n",
    "         },\n",
    "    'S2':\n",
    "         {  'SR': { '10': [0.35, 0.00], '15': [0.35, 0.00], '20': [0.35, 0.00], '25': [0.35, 0.00] },\n",
    "            'LR': { '10': [0.50, 0.00], '15': [0.50, 0.00], '20': [0.50, 0.00], '25': [0.50, 0.00] },\n",
    "            'HR': [1.00, 0.75]\n",
    "         },\n",
    "    'S3':\n",
    "         {  'SR': { '10': [0.35, 0.00], '15': [0.35, 0.00], '20': [0.35, 0.00], '25': [0.35, 0.00] },\n",
    "            'LR': { '10': [0.50, 0.00], '15': [0.50, 0.00], '20': [0.50, 0.00], '25': [0.50, 0.00] },\n",
    "            'HR': [1.00, 0.75]\n",
    "         },\n",
    "     'ucsdLED':\n",
    "         {\n",
    "             'SR': { '1k': [0.35, 0.00], '2k': [0.35, 0.00], '4k': [0.35, 0.00] },\n",
    "             'LR': { '1k': [0.50, 0.00], '2k': [0.50, 0.00], '4k': [0.50, 0.00] },\n",
    "             'HR': [1.00, 0.75]\n",
    "         },\n",
    "    'ucsdLEDsm':\n",
    "         {\n",
    "             'SR': { '1k': [0.35, 0.00], '2k': [0.35, 0.00], '4k': [0.35, 0.00] },\n",
    "             'LR': { '1k': [0.50, 0.00], '2k': [0.50, 0.00], '4k': [0.50, 0.00] },\n",
    "             'HR': [1.00, 0.75]\n",
    "         }\n",
    "}\n",
    "\n",
    "opacities = {\n",
    "     'UCSD900':  \n",
    "            { 'SR': { '10': [0.00,0.20,0.00], '15': [0.00,0.20,0.00], '20': [0.00,0.20,0.00], '25': [0.00,0.20,0.00]},\n",
    "              'LR': { '10': [0.00,0.20,0.00], '15': [0.00,0.20,0.00], '20': [0.00,0.20,0.00], '25': [0.00,0.20,0.00]},\n",
    "              'HR': [0.70,0.73,0.00]\n",
    "            },\n",
    "     'UCSD900flipped':  \n",
    "            { 'SR': { '10': [0.20,0.00,0.00], '15': [0.20,0.00,0.00], '20': [0.20,0.00,0.00], '25': [0.20,0.00,0.00], '30': [0.20,0.00,0.00], '40': [0.20,0.00,0.00]},\n",
    "              'LR': { '10': [0.20,0.00,0.00], '15': [0.20,0.00,0.00], '20': [0.20,0.00,0.00], '25': [0.20,0.00,0.00], '30': [0.20,0.00,0.00], '40': [0.20,0.00,0.00]},\n",
    "              'HR': [0.70,0.73,0.00]\n",
    "            },\n",
    "      'S1':\n",
    "            { 'SR': { '10': [0.20,0.00,0.00], '15': [0.20,0.00,0.00], '20': [0.20,0.00,0.00], '25': [0.20,0.00,0.00]},\n",
    "              'LR': { '10': [0.15,0.00,0.00], '15': [0.15,0.00,0.00], '20': [0.15,0.00,0.00], '25': [0.15,0.00,0.00]},\n",
    "              'HR': [0.70,0.73,0.00]\n",
    "            },\n",
    "      'S2':\n",
    "            { 'SR': { '10': [0.20,0.00,0.00], '15': [0.20,0.00,0.00], '20': [0.20,0.00,0.00], '25': [0.20,0.00,0.00]},\n",
    "              'LR': { '10': [0.15,0.00,0.00], '15': [0.15,0.00,0.00], '20': [0.15,0.00,0.00], '25': [0.15,0.00,0.00]},\n",
    "              'HR': [0.70,0.73,0.00]\n",
    "            },\n",
    "       'S3':\n",
    "            { 'SR': { '10': [0.20,0.00,0.00], '15': [0.20,0.00,0.00], '20': [0.20,0.00,0.00], '25': [0.20,0.00,0.00]},\n",
    "              'LR': { '10': [0.15,0.00,0.00], '15': [0.15,0.00,0.00], '20': [0.15,0.00,0.00], '25': [0.15,0.00,0.00]},\n",
    "              'HR': [0.70,0.73,0.00]\n",
    "            },\n",
    "       'ucsdLED':\n",
    "            { 'SR': { '1k': [0.20,0.00,0.00], '2k': [0.20,0.00,0.00], '4k': [0.20,0.00,0.00]},\n",
    "              'LR': { '1k': [0.15,0.00,0.00], '2k': [0.15,0.00,0.00], '4k': [0.15,0.00,0.00]},\n",
    "              'HR': [0.70,0.73,0.00]\n",
    "            },\n",
    "       'ucsdLEDsm':\n",
    "            { 'SR': { '1k': [0.20,0.00,0.00], '2k': [0.20,0.00,0.00], '4k': [0.20,0.00,0.00]},\n",
    "              'LR': { '1k': [0.15,0.00,0.00], '2k': [0.15,0.00,0.00], '4k': [0.15,0.00,0.00]},\n",
    "              'HR': [0.70,0.73,0.00]\n",
    "            },\n",
    "}"
   ]
  },
  {
   "cell_type": "code",
   "execution_count": 4,
   "metadata": {},
   "outputs": [],
   "source": [
    "fig_res = {} # dictionary of result figures\n",
    "fig_inp = {} # dictionary of input figures"
   ]
  },
  {
   "cell_type": "code",
   "execution_count": 6,
   "metadata": {},
   "outputs": [],
   "source": [
    "#noises = ['10','15','20','25']\n",
    "#sample = 'ucsdLEDsm'\n",
    "sample = \"UCSD900flipped\"\n",
    "noises = list(levels[sample].keys())\n",
    "#frame_range = [200,509,0,509]\n",
    "frame_range = [0,90,0,390]\n",
    "#frame_range = [0,512,0,512]\n",
    "opacity = 5.00\n",
    "brightness = 2.00"
   ]
  },
  {
   "cell_type": "code",
   "execution_count": 6,
   "metadata": {},
   "outputs": [
    {
     "name": "stderr",
     "output_type": "stream",
     "text": [
      "/opt/conda/lib/python3.6/site-packages/ipyvolume/widgets.py:179: FutureWarning: Using a non-tuple sequence for multidimensional indexing is deprecated; use `arr[tuple(seq)]` instead of `arr[seq]`. In the future this will be interpreted as an array index, `arr[np.array(seq)]`, which will result either in an error or a different result.\n",
      "  data_view = self.data_original[view]\n",
      "/opt/conda/lib/python3.6/site-packages/ipyvolume/utils.py:204: FutureWarning: Using a non-tuple sequence for multidimensional indexing is deprecated; use `arr[tuple(seq)]` instead of `arr[seq]`. In the future this will be interpreted as an array index, `arr[np.array(seq)]`, which will result either in an error or a different result.\n",
      "  data = (data[slices1] + data[slices2])/2\n",
      "/opt/conda/lib/python3.6/site-packages/ipyvolume/serialize.py:81: RuntimeWarning: invalid value encountered in true_divide\n",
      "  gradient = gradient / np.sqrt(gradient[0]**2 + gradient[1]**2 + gradient[2]**2)\n"
     ]
    },
    {
     "data": {
      "application/vnd.jupyter.widget-view+json": {
       "model_id": "f7c7b6d6161b4b009d7c25e85ae64719",
       "version_major": 2,
       "version_minor": 0
      },
      "text/plain": [
       "VBox(children=(VBox(children=(HBox(children=(Label(value='levels:'), FloatSlider(value=0.35, max=1.0, step=0.0…"
      ]
     },
     "metadata": {},
     "output_type": "display_data"
    }
   ],
   "source": [
    "noise = '10'\n",
    "input_vol = np.load('result_vol_npys/input_'+sample+'_vol_'+noise+'.npy')\n",
    "input_vol = input_vol[:,frame_range[0]:frame_range[1],frame_range[2]:frame_range[3]]\n",
    "mins = input_vol.min(axis=(0,1))\n",
    "maxs = input_vol.max(axis=(0,1))\n",
    "input_vol_norm = (input_vol - mins) / (maxs - mins)\n",
    "fig_inp[noise] = ipyvolume.figure(camera = figcam)\n",
    "ipyvolume.volshow(input_vol_norm[:,:,:],level=levels[sample]['LR'][noise],opacity=opacities[sample]['LR'][noise])\n",
    "fig_inp[noise].volumes[0].opacity_scale = opacity\n",
    "fig_inp[noise].volumes[0].brightness = brightness\n",
    "ipyvolume.pylab.xyzlabel(' ', ' ', ' ')\n",
    "ipyvolume.show()"
   ]
  },
  {
   "cell_type": "code",
   "execution_count": 7,
   "metadata": {},
   "outputs": [
    {
     "data": {
      "application/vnd.jupyter.widget-view+json": {
       "model_id": "56024a67f938486695c6f3fa8384882f",
       "version_major": 2,
       "version_minor": 0
      },
      "text/plain": [
       "Output()"
      ]
     },
     "metadata": {},
     "output_type": "display_data"
    }
   ],
   "source": [
    "ipyvolume.pylab.savefig('input_3dfig_'+sample+'_'+noise+'.png',width=1280,height=720,fig=fig_inp[noise])"
   ]
  },
  {
   "cell_type": "code",
   "execution_count": 8,
   "metadata": {},
   "outputs": [
    {
     "data": {
      "application/vnd.jupyter.widget-view+json": {
       "model_id": "8743c2c34ce14877a8136289c2fa9887",
       "version_major": 2,
       "version_minor": 0
      },
      "text/plain": [
       "VBox(children=(VBox(children=(HBox(children=(Label(value='levels:'), FloatSlider(value=0.35, max=1.0, step=0.0…"
      ]
     },
     "metadata": {},
     "output_type": "display_data"
    }
   ],
   "source": [
    "avg_img = np.load('result_vol_npys/output_'+sample+'_vol_'+noise+'.npy')\n",
    "avg_img = avg_img[:,frame_range[0]:frame_range[1],frame_range[2]:frame_range[3]]\n",
    "mins = avg_img.min(axis=(0,1))\n",
    "maxs = avg_img.max(axis=(0,1))\n",
    "avg_img_norm = (avg_img - mins) / (maxs - mins)\n",
    "fig_res[noise] = ipyvolume.figure(camera = figcam)\n",
    "ipyvolume.volshow(avg_img_norm[:,:,:],level=levels[sample]['SR'][noise],opacity=opacities[sample]['SR'][noise])\n",
    "#ipyvolume.selector_default()\n",
    "fig_res[noise].volumes[0].opacity_scale = opacity\n",
    "fig_res[noise].volumes[0].brightness = brightness\n",
    "ipyvolume.pylab.xyzlabel(' ', ' ', ' ')\n",
    "ipyvolume.show()"
   ]
  },
  {
   "cell_type": "code",
   "execution_count": 9,
   "metadata": {},
   "outputs": [
    {
     "data": {
      "application/vnd.jupyter.widget-view+json": {
       "model_id": "bc2abd89d4c1458aae5de3cd576d61f8",
       "version_major": 2,
       "version_minor": 0
      },
      "text/plain": [
       "Output()"
      ]
     },
     "metadata": {},
     "output_type": "display_data"
    }
   ],
   "source": [
    "ipyvolume.pylab.savefig('output_3dfig_'+sample+'_'+noise+'.png',width=1280,height=720,fig=fig_res[noise])"
   ]
  },
  {
   "cell_type": "code",
   "execution_count": 10,
   "metadata": {},
   "outputs": [
    {
     "data": {
      "application/vnd.jupyter.widget-view+json": {
       "model_id": "310383b8522f4140916bf411490858ac",
       "version_major": 2,
       "version_minor": 0
      },
      "text/plain": [
       "VBox(children=(VBox(children=(HBox(children=(Label(value='levels:'), FloatSlider(value=0.55, max=1.0, step=0.0…"
      ]
     },
     "metadata": {},
     "output_type": "display_data"
    }
   ],
   "source": [
    "noise = '15'\n",
    "input_vol = np.load('result_vol_npys/input_'+sample+'_vol_'+noise+'.npy')\n",
    "input_vol = input_vol[:,frame_range[0]:frame_range[1],frame_range[2]:frame_range[3]]\n",
    "mins = input_vol.min(axis=(0,1))\n",
    "maxs = input_vol.max(axis=(0,1))\n",
    "input_vol_norm = (input_vol - mins) / (maxs - mins)\n",
    "fig_inp[noise] = ipyvolume.figure(camera = figcam)\n",
    "ipyvolume.volshow(input_vol_norm[:,:,:],level=levels[sample]['LR'][noise],opacity=opacities[sample]['LR'][noise])\n",
    "fig_inp[noise].volumes[0].opacity_scale = opacity\n",
    "fig_inp[noise].volumes[0].brightness = brightness\n",
    "ipyvolume.pylab.xyzlabel(' ', ' ', ' ')\n",
    "ipyvolume.show()"
   ]
  },
  {
   "cell_type": "code",
   "execution_count": 11,
   "metadata": {},
   "outputs": [
    {
     "data": {
      "application/vnd.jupyter.widget-view+json": {
       "model_id": "6b637c8378eb4b59976294a6204feabc",
       "version_major": 2,
       "version_minor": 0
      },
      "text/plain": [
       "Output()"
      ]
     },
     "metadata": {},
     "output_type": "display_data"
    }
   ],
   "source": [
    "ipyvolume.pylab.savefig('input_3dfig_'+sample+'_'+noise+'.png',width=1280,height=720,fig=fig_inp[noise])"
   ]
  },
  {
   "cell_type": "code",
   "execution_count": 12,
   "metadata": {},
   "outputs": [
    {
     "data": {
      "application/vnd.jupyter.widget-view+json": {
       "model_id": "52ca04d13545480db3a0b2676d54c42f",
       "version_major": 2,
       "version_minor": 0
      },
      "text/plain": [
       "VBox(children=(VBox(children=(HBox(children=(Label(value='levels:'), FloatSlider(value=0.35, max=1.0, step=0.0…"
      ]
     },
     "metadata": {},
     "output_type": "display_data"
    }
   ],
   "source": [
    "avg_img = np.load('result_vol_npys/output_'+sample+'_vol_'+noise+'.npy')\n",
    "avg_img = avg_img[:,frame_range[0]:frame_range[1],frame_range[2]:frame_range[3]]\n",
    "mins = avg_img.min(axis=(0,1))\n",
    "maxs = avg_img.max(axis=(0,1))\n",
    "avg_img_norm = (avg_img - mins) / (maxs - mins)\n",
    "fig_res[noise] = ipyvolume.figure(camera = figcam)\n",
    "ipyvolume.volshow(avg_img_norm[:,:,:],level=levels[sample]['SR'][noise],opacity=opacities[sample]['SR'][noise])\n",
    "fig_res[noise].volumes[0].opacity_scale = opacity\n",
    "fig_res[noise].volumes[0].brightness = brightness\n",
    "ipyvolume.pylab.xyzlabel(' ', ' ', ' ')\n",
    "ipyvolume.show()"
   ]
  },
  {
   "cell_type": "code",
   "execution_count": 13,
   "metadata": {},
   "outputs": [
    {
     "data": {
      "application/vnd.jupyter.widget-view+json": {
       "model_id": "47daacc153ee4ced961bf2654b9958a1",
       "version_major": 2,
       "version_minor": 0
      },
      "text/plain": [
       "Output()"
      ]
     },
     "metadata": {},
     "output_type": "display_data"
    }
   ],
   "source": [
    "ipyvolume.pylab.savefig('output_3dfig_'+sample+'_'+noise+'.png',width=1280,height=720,fig=fig_res[noise])"
   ]
  },
  {
   "cell_type": "code",
   "execution_count": 14,
   "metadata": {},
   "outputs": [
    {
     "data": {
      "application/vnd.jupyter.widget-view+json": {
       "model_id": "bbe975d5233340fdb2242093ab6e34db",
       "version_major": 2,
       "version_minor": 0
      },
      "text/plain": [
       "VBox(children=(VBox(children=(HBox(children=(Label(value='levels:'), FloatSlider(value=0.65, max=1.0, step=0.0…"
      ]
     },
     "metadata": {},
     "output_type": "display_data"
    }
   ],
   "source": [
    "noise = '20'\n",
    "input_vol = np.load('result_vol_npys/input_'+sample+'_vol_'+noise+'.npy')\n",
    "input_vol = input_vol[:,frame_range[0]:frame_range[1],frame_range[2]:frame_range[3]]\n",
    "mins = input_vol.min(axis=(0,1))\n",
    "maxs = input_vol.max(axis=(0,1))\n",
    "input_vol_norm = (input_vol - mins) / (maxs - mins)\n",
    "fig_inp[noise] = ipyvolume.figure(camera = figcam)\n",
    "ipyvolume.volshow(input_vol_norm[:,:,:],level=levels[sample]['LR'][noise],opacity=opacities[sample]['LR'][noise])\n",
    "fig_inp[noise].volumes[0].opacity_scale = opacity\n",
    "fig_inp[noise].volumes[0].brightness = brightness\n",
    "ipyvolume.pylab.xyzlabel(' ', ' ', ' ')\n",
    "ipyvolume.show()"
   ]
  },
  {
   "cell_type": "code",
   "execution_count": 15,
   "metadata": {},
   "outputs": [
    {
     "data": {
      "application/vnd.jupyter.widget-view+json": {
       "model_id": "01716efdb7a5469c9f749b3b5f57a94f",
       "version_major": 2,
       "version_minor": 0
      },
      "text/plain": [
       "Output()"
      ]
     },
     "metadata": {},
     "output_type": "display_data"
    }
   ],
   "source": [
    "ipyvolume.pylab.savefig('input_3dfig_'+sample+'_'+noise+'.png',width=1280,height=720,fig=fig_inp[noise])"
   ]
  },
  {
   "cell_type": "code",
   "execution_count": 16,
   "metadata": {},
   "outputs": [
    {
     "data": {
      "application/vnd.jupyter.widget-view+json": {
       "model_id": "9d29f72cfa204189a1428a8d9b0e664f",
       "version_major": 2,
       "version_minor": 0
      },
      "text/plain": [
       "VBox(children=(VBox(children=(HBox(children=(Label(value='levels:'), FloatSlider(value=0.35, max=1.0, step=0.0…"
      ]
     },
     "metadata": {},
     "output_type": "display_data"
    }
   ],
   "source": [
    "avg_img = np.load('result_vol_npys/output_'+sample+'_vol_'+noise+'.npy')\n",
    "avg_img = avg_img[:,frame_range[0]:frame_range[1],frame_range[2]:frame_range[3]]\n",
    "mins = avg_img.min(axis=(0,1))\n",
    "maxs = avg_img.max(axis=(0,1))\n",
    "avg_img_norm = (avg_img - mins) / (maxs - mins)\n",
    "fig_res[noise] = ipyvolume.figure(camera = figcam)\n",
    "ipyvolume.volshow(avg_img_norm[:,:,:],level=levels[sample]['SR'][noise],opacity=opacities[sample]['SR'][noise])\n",
    "fig_res[noise].volumes[0].opacity_scale = opacity\n",
    "fig_res[noise].volumes[0].brightness = brightness\n",
    "ipyvolume.pylab.xyzlabel(' ', ' ', ' ')\n",
    "ipyvolume.show()"
   ]
  },
  {
   "cell_type": "code",
   "execution_count": 17,
   "metadata": {},
   "outputs": [
    {
     "data": {
      "application/vnd.jupyter.widget-view+json": {
       "model_id": "a178090eec974c6693cf73e12825dee2",
       "version_major": 2,
       "version_minor": 0
      },
      "text/plain": [
       "Output()"
      ]
     },
     "metadata": {},
     "output_type": "display_data"
    }
   ],
   "source": [
    "ipyvolume.pylab.savefig('output_3dfig_'+sample+'_'+noise+'.png',width=1280,height=720,fig=fig_res[noise])"
   ]
  },
  {
   "cell_type": "code",
   "execution_count": 18,
   "metadata": {},
   "outputs": [
    {
     "data": {
      "application/vnd.jupyter.widget-view+json": {
       "model_id": "6fe2c44d17f84bba831f0861e62a6129",
       "version_major": 2,
       "version_minor": 0
      },
      "text/plain": [
       "VBox(children=(VBox(children=(HBox(children=(Label(value='levels:'), FloatSlider(value=0.75, max=1.0, step=0.0…"
      ]
     },
     "metadata": {},
     "output_type": "display_data"
    }
   ],
   "source": [
    "noise = '25'\n",
    "input_vol = np.load('result_vol_npys/input_'+sample+'_vol_'+noise+'.npy')\n",
    "input_vol = input_vol[:,frame_range[0]:frame_range[1],frame_range[2]:frame_range[3]]\n",
    "mins = input_vol.min(axis=(0,1))\n",
    "maxs = input_vol.max(axis=(0,1))\n",
    "input_vol_norm = (input_vol - mins) / (maxs - mins)\n",
    "fig_inp[noise] = ipyvolume.figure(camera = figcam)\n",
    "ipyvolume.volshow(input_vol_norm[:,:,:],level=levels[sample]['LR'][noise],opacity=opacities[sample]['LR'][noise])\n",
    "fig_inp[noise].volumes[0].opacity_scale = opacity\n",
    "fig_inp[noise].volumes[0].brightness = brightness\n",
    "ipyvolume.pylab.xyzlabel(' ', ' ', ' ')\n",
    "ipyvolume.show()"
   ]
  },
  {
   "cell_type": "code",
   "execution_count": 19,
   "metadata": {},
   "outputs": [
    {
     "data": {
      "application/vnd.jupyter.widget-view+json": {
       "model_id": "1f84783d47f341dca6ac20e5b79ba960",
       "version_major": 2,
       "version_minor": 0
      },
      "text/plain": [
       "Output()"
      ]
     },
     "metadata": {},
     "output_type": "display_data"
    }
   ],
   "source": [
    "ipyvolume.pylab.savefig('input_3dfig_'+sample+'_'+noise+'.png',width=1280,height=720,fig=fig_inp[noise])"
   ]
  },
  {
   "cell_type": "code",
   "execution_count": 20,
   "metadata": {},
   "outputs": [
    {
     "data": {
      "application/vnd.jupyter.widget-view+json": {
       "model_id": "921dbc491a224e3d9842180c92d3bff2",
       "version_major": 2,
       "version_minor": 0
      },
      "text/plain": [
       "VBox(children=(VBox(children=(HBox(children=(Label(value='levels:'), FloatSlider(value=0.35, max=1.0, step=0.0…"
      ]
     },
     "metadata": {},
     "output_type": "display_data"
    }
   ],
   "source": [
    "avg_img = np.load('result_vol_npys/output_'+sample+'_vol_'+noise+'.npy')\n",
    "avg_img = avg_img[:,frame_range[0]:frame_range[1],frame_range[2]:frame_range[3]]\n",
    "mins = avg_img.min(axis=(0,1))\n",
    "maxs = avg_img.max(axis=(0,1))\n",
    "avg_img_norm = (avg_img - mins) / (maxs - mins)\n",
    "fig_res[noise] = ipyvolume.figure(camera = figcam,opacity_scale = 1.58)\n",
    "ipyvolume.volshow(avg_img_norm[:,:,:],level=levels[sample]['SR'][noise],opacity=opacities[sample]['SR'][noise])\n",
    "fig_res[noise].volumes[0].opacity_scale = opacity\n",
    "fig_res[noise].volumes[0].brightness = brightness\n",
    "ipyvolume.pylab.xyzlabel(' ', ' ', ' ')\n",
    "ipyvolume.show()"
   ]
  },
  {
   "cell_type": "code",
   "execution_count": 22,
   "metadata": {},
   "outputs": [
    {
     "data": {
      "application/vnd.jupyter.widget-view+json": {
       "model_id": "6d10abcf131b41a199ce50f236da61a3",
       "version_major": 2,
       "version_minor": 0
      },
      "text/plain": [
       "Output()"
      ]
     },
     "metadata": {},
     "output_type": "display_data"
    }
   ],
   "source": [
    "ipyvolume.pylab.savefig('output_3dfig_'+sample+'_'+noise+'.png',width=1280,height=720,fig=fig_res[noise])"
   ]
  },
  {
   "cell_type": "code",
   "execution_count": 43,
   "metadata": {},
   "outputs": [
    {
     "data": {
      "application/vnd.jupyter.widget-view+json": {
       "model_id": "ae37fbe089c7457093112698d28c57d5",
       "version_major": 2,
       "version_minor": 0
      },
      "text/plain": [
       "VBox(children=(VBox(children=(HBox(children=(Label(value='levels:'), FloatSlider(value=0.77, max=1.0, step=0.0…"
      ]
     },
     "metadata": {},
     "output_type": "display_data"
    }
   ],
   "source": [
    "noise = '30'\n",
    "input_vol = np.load('result_vol_npys/input_'+sample+'_vol_'+noise+'.npy')\n",
    "input_vol = input_vol[:,frame_range[0]:frame_range[1],frame_range[2]:frame_range[3]]\n",
    "mins = input_vol.min(axis=(0,1))\n",
    "maxs = input_vol.max(axis=(0,1))\n",
    "input_vol_norm = (input_vol - mins) / (maxs - mins)\n",
    "fig_inp[noise] = ipyvolume.figure(camera = figcam)\n",
    "ipyvolume.volshow(input_vol_norm[:,:,:],level=levels[sample]['LR'][noise],opacity=opacities[sample]['LR'][noise])\n",
    "fig_inp[noise].volumes[0].opacity_scale = opacity\n",
    "fig_inp[noise].volumes[0].brightness = brightness\n",
    "ipyvolume.pylab.xyzlabel(' ', ' ', ' ')\n",
    "ipyvolume.show()"
   ]
  },
  {
   "cell_type": "code",
   "execution_count": 44,
   "metadata": {},
   "outputs": [
    {
     "data": {
      "application/vnd.jupyter.widget-view+json": {
       "model_id": "1ee189b34bd04a8d855cb2e7959ea897",
       "version_major": 2,
       "version_minor": 0
      },
      "text/plain": [
       "Output()"
      ]
     },
     "metadata": {},
     "output_type": "display_data"
    }
   ],
   "source": [
    "ipyvolume.pylab.savefig('input_3dfig_'+sample+'_'+noise+'.png',width=1280,height=720,fig=fig_inp[noise])"
   ]
  },
  {
   "cell_type": "code",
   "execution_count": 45,
   "metadata": {},
   "outputs": [
    {
     "data": {
      "application/vnd.jupyter.widget-view+json": {
       "model_id": "f9b3393160be4b43b42fc77634df524b",
       "version_major": 2,
       "version_minor": 0
      },
      "text/plain": [
       "VBox(children=(VBox(children=(HBox(children=(Label(value='levels:'), FloatSlider(value=0.35, max=1.0, step=0.0…"
      ]
     },
     "metadata": {},
     "output_type": "display_data"
    }
   ],
   "source": [
    "avg_img = np.load('result_vol_npys/output_'+sample+'_vol_'+noise+'.npy')\n",
    "avg_img = avg_img[:,frame_range[0]:frame_range[1],frame_range[2]:frame_range[3]]\n",
    "mins = avg_img.min(axis=(0,1))\n",
    "maxs = avg_img.max(axis=(0,1))\n",
    "avg_img_norm = (avg_img - mins) / (maxs - mins)\n",
    "fig_res[noise] = ipyvolume.figure(camera = figcam)\n",
    "ipyvolume.volshow(avg_img_norm[:,:,:],level=levels[sample]['SR'][noise],opacity=opacities[sample]['SR'][noise])\n",
    "fig_res[noise].volumes[0].opacity_scale = opacity\n",
    "fig_res[noise].volumes[0].brightness = brightness\n",
    "ipyvolume.pylab.xyzlabel(' ', ' ', ' ')\n",
    "ipyvolume.show()"
   ]
  },
  {
   "cell_type": "code",
   "execution_count": 46,
   "metadata": {},
   "outputs": [
    {
     "data": {
      "application/vnd.jupyter.widget-view+json": {
       "model_id": "4dd2f94dcd5f4fbb9c81ff7e000b1ea9",
       "version_major": 2,
       "version_minor": 0
      },
      "text/plain": [
       "Output()"
      ]
     },
     "metadata": {},
     "output_type": "display_data"
    }
   ],
   "source": [
    "ipyvolume.pylab.savefig('output_3dfig_'+sample+'_'+noise+'.png',width=1280,height=720,fig=fig_res[noise])"
   ]
  },
  {
   "cell_type": "code",
   "execution_count": 47,
   "metadata": {},
   "outputs": [
    {
     "data": {
      "application/vnd.jupyter.widget-view+json": {
       "model_id": "683e0f8b8f1c46b3aa6532dc8ed2bdf5",
       "version_major": 2,
       "version_minor": 0
      },
      "text/plain": [
       "VBox(children=(VBox(children=(HBox(children=(Label(value='levels:'), FloatSlider(value=0.77, max=1.0, step=0.0…"
      ]
     },
     "metadata": {},
     "output_type": "display_data"
    }
   ],
   "source": [
    "noise = '40'\n",
    "input_vol = np.load('result_vol_npys/input_'+sample+'_vol_'+noise+'.npy')\n",
    "input_vol = input_vol[:,frame_range[0]:frame_range[1],frame_range[2]:frame_range[3]]\n",
    "mins = input_vol.min(axis=(0,1))\n",
    "maxs = input_vol.max(axis=(0,1))\n",
    "input_vol_norm = (input_vol - mins) / (maxs - mins)\n",
    "fig_inp[noise] = ipyvolume.figure(camera = figcam)\n",
    "ipyvolume.volshow(input_vol_norm[:,:,:],level=levels[sample]['LR'][noise],opacity=opacities[sample]['LR'][noise])\n",
    "fig_inp[noise].volumes[0].opacity_scale = opacity\n",
    "fig_inp[noise].volumes[0].brightness = brightness\n",
    "ipyvolume.pylab.xyzlabel(' ', ' ', ' ')\n",
    "ipyvolume.show()"
   ]
  },
  {
   "cell_type": "code",
   "execution_count": 48,
   "metadata": {},
   "outputs": [
    {
     "data": {
      "application/vnd.jupyter.widget-view+json": {
       "model_id": "1f3f11c8339f4365b2de9b60a2ff82c4",
       "version_major": 2,
       "version_minor": 0
      },
      "text/plain": [
       "Output()"
      ]
     },
     "metadata": {},
     "output_type": "display_data"
    }
   ],
   "source": [
    "ipyvolume.pylab.savefig('input_3dfig_'+sample+'_'+noise+'.png',width=1280,height=720,fig=fig_inp[noise])"
   ]
  },
  {
   "cell_type": "code",
   "execution_count": 49,
   "metadata": {},
   "outputs": [
    {
     "data": {
      "application/vnd.jupyter.widget-view+json": {
       "model_id": "8b214bfee4a044938c0ff551650b1c77",
       "version_major": 2,
       "version_minor": 0
      },
      "text/plain": [
       "VBox(children=(VBox(children=(HBox(children=(Label(value='levels:'), FloatSlider(value=0.35, max=1.0, step=0.0…"
      ]
     },
     "metadata": {},
     "output_type": "display_data"
    }
   ],
   "source": [
    "avg_img = np.load('result_vol_npys/output_'+sample+'_vol_'+noise+'.npy')\n",
    "avg_img = avg_img[:,frame_range[0]:frame_range[1],frame_range[2]:frame_range[3]]\n",
    "mins = avg_img.min(axis=(0,1))\n",
    "maxs = avg_img.max(axis=(0,1))\n",
    "avg_img_norm = (avg_img - mins) / (maxs - mins)\n",
    "fig_res[noise] = ipyvolume.figure(camera = figcam)\n",
    "ipyvolume.volshow(avg_img_norm[:,:,:],level=levels[sample]['SR'][noise],opacity=opacities[sample]['SR'][noise])\n",
    "fig_res[noise].volumes[0].opacity_scale = opacity\n",
    "fig_res[noise].volumes[0].brightness = brightness\n",
    "ipyvolume.pylab.xyzlabel(' ', ' ', ' ')\n",
    "ipyvolume.show()"
   ]
  },
  {
   "cell_type": "code",
   "execution_count": 50,
   "metadata": {},
   "outputs": [
    {
     "data": {
      "application/vnd.jupyter.widget-view+json": {
       "model_id": "2f6e3f6c8a7d4b189f4f88180079de9f",
       "version_major": 2,
       "version_minor": 0
      },
      "text/plain": [
       "Output()"
      ]
     },
     "metadata": {},
     "output_type": "display_data"
    }
   ],
   "source": [
    "ipyvolume.pylab.savefig('output_3dfig_'+sample+'_'+noise+'.png',width=1280,height=720,fig=fig_res[noise])"
   ]
  },
  {
   "cell_type": "code",
   "execution_count": 35,
   "metadata": {},
   "outputs": [
    {
     "data": {
      "application/vnd.jupyter.widget-view+json": {
       "model_id": "c0b19b1cb851425a886322e345e16984",
       "version_major": 2,
       "version_minor": 0
      },
      "text/plain": [
       "VBox(children=(VBox(children=(HBox(children=(Label(value='levels:'), FloatSlider(value=0.77, max=1.0, step=0.0…"
      ]
     },
     "metadata": {},
     "output_type": "display_data"
    }
   ],
   "source": [
    "gt_vol = np.load('result_vol_npys/gt_'+sample+'_vol.npy')\n",
    "gt_vol = gt_vol[:,frame_range[0]:frame_range[1],frame_range[2]:frame_range[3]]\n",
    "mins = gt_vol.min(axis=(0,1))\n",
    "maxs = gt_vol.max(axis=(0,1))\n",
    "gt_vol_norm = (gt_vol - mins) / (maxs - mins)\n",
    "fig_gt = ipyvolume.figure(camera = figcam)\n",
    "ipyvolume.volshow(gt_vol_norm[:,:,:],level=levels[sample]['LR'][noise],opacity=opacities[sample]['LR'][noise],specular_exponent=5)\n",
    "fig_gt.volumes[0].opacity_scale = opacity\n",
    "fig_gt.volumes[0].brightness = brightness\n",
    "ipyvolume.pylab.xyzlabel(' ', ' ', ' ')\n",
    "ipyvolume.show()"
   ]
  },
  {
   "cell_type": "code",
   "execution_count": 36,
   "metadata": {},
   "outputs": [
    {
     "data": {
      "application/vnd.jupyter.widget-view+json": {
       "model_id": "01fdf78829c24e04b289c43d48c75fe2",
       "version_major": 2,
       "version_minor": 0
      },
      "text/plain": [
       "Output()"
      ]
     },
     "metadata": {},
     "output_type": "display_data"
    }
   ],
   "source": [
    "ipyvolume.pylab.savefig('gt_3dfig_'+sample+'.png',width=1280,height=720,fig = fig_gt)"
   ]
  },
  {
   "cell_type": "markdown",
   "metadata": {},
   "source": [
    "## Convert full UCSD sample data into MATLAB"
   ]
  },
  {
   "cell_type": "code",
   "execution_count": 40,
   "metadata": {},
   "outputs": [],
   "source": [
    "import scipy.io as sio"
   ]
  },
  {
   "cell_type": "code",
   "execution_count": 42,
   "metadata": {},
   "outputs": [],
   "source": [
    "noises = ['30','40']\n",
    "for noise in noises:\n",
    "    sr_data = np.load('result_vol_npys/output_'+sample+'_vol_'+noise+'.npy')\n",
    "    lr_data = np.load('result_vol_npys/input_'+sample+'_vol_'+noise+'.npy')\n",
    "    mins = sr_data.min(axis=(0,1))\n",
    "    maxs = sr_data.max(axis=(0,1))\n",
    "    sr_data_norm = (sr_data - mins) / (maxs - mins)\n",
    "    mins = lr_data.min(axis=(0,1))\n",
    "    maxs = lr_data.max(axis=(0,1))\n",
    "    lr_data_norm = (lr_data - mins) / (maxs - mins)    \n",
    "    sio.savemat('UCSD900_'+noise+'_LR.mat',{'vect':lr_data})\n",
    "    sio.savemat('UCSD900_'+noise+'_SR.mat',{'vect':sr_data})\n",
    "    sio.savemat('UCSD900_norm_'+noise+'_LR.mat',{'vect':lr_data_norm})\n",
    "    sio.savemat('UCSD900_norm_'+noise+'_SR.mat',{'vect':sr_data_norm})\n",
    "#hr_data = np.load('target_ucsd_vol.npy')\n",
    "#mins = hr_data.min(axis=(0,1))\n",
    "#maxs = hr_data.max(axis=(0,1))\n",
    "#hr_data_norm = (hr_data - mins) / (maxs - mins) \n",
    "#sio.savemat('UCSD900_HR.mat',{'vect':hr_data})\n",
    "#sio.savemat('UCSD900_norm_HR.mat',{'vect':hr_data_norm})"
   ]
  },
  {
   "cell_type": "code",
   "execution_count": null,
   "metadata": {},
   "outputs": [],
   "source": []
  }
 ],
 "metadata": {
  "kernelspec": {
   "display_name": "Python 3",
   "language": "python",
   "name": "python3"
  },
  "language_info": {
   "codemirror_mode": {
    "name": "ipython",
    "version": 3
   },
   "file_extension": ".py",
   "mimetype": "text/x-python",
   "name": "python",
   "nbconvert_exporter": "python",
   "pygments_lexer": "ipython3",
   "version": "3.6.7"
  }
 },
 "nbformat": 4,
 "nbformat_minor": 2
}
