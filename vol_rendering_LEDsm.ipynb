{
 "cells": [
  {
   "cell_type": "code",
   "execution_count": 19,
   "metadata": {},
   "outputs": [],
   "source": [
    "import glob\n",
    "import ipywidgets\n",
    "import ipyvolume\n",
    "import cv2\n",
    "import numpy as np\n",
    "import os\n",
    "import time"
   ]
  },
  {
   "cell_type": "code",
   "execution_count": 2,
   "metadata": {},
   "outputs": [],
   "source": [
    "import pythreejs\n",
    "figcam = pythreejs.PerspectiveCamera(aspect=0.8, fov=46.0, matrixWorldNeedsUpdate=True, position=(1.785528946985704, 1.3757523415625494, 2.412892214337929), projectionMatrix=(2.9448154572796907, 0.0, 0.0, 0.0, 0.0, 2.3558523658237527, 0.0, 0.0, 0.0, 0.0, -1.00010000500025, -1.0, 0.0, 0.0, -0.200010000500025, 0.0), quaternion=(-0.19796316984919116, 0.30892794387643674, 0.08046673488216134, 0.9267681551784899), rotation=(-0.5181948251143776, 0.5713287660544955, 0.3285944197012996, 'XYZ'), scale=(1.0, 1.0, 1.0), up=(-0.27146072492949946, 0.9086713759213286, -0.31721507751364897))"
   ]
  },
  {
   "cell_type": "markdown",
   "metadata": {},
   "source": [
    "## Volume Rendering"
   ]
  },
  {
   "cell_type": "code",
   "execution_count": 7,
   "metadata": {},
   "outputs": [],
   "source": [
    "levels = {\n",
    "    'ucsdLEDsm':\n",
    "         {\n",
    "             'SR': { '1k': [0.18, 0.00], '2k': [0.18, 0.00], '4k': [0.18, 0.00] },\n",
    "             'LR': { '1k': [0.55, 0.00], '2k': [0.45, 0.00], '4k': [0.35, 0.00] },\n",
    "             'HR': [1.00, 0.75]\n",
    "         }\n",
    "}\n",
    "\n",
    "opacities = {\n",
    "       'ucsdLEDsm':\n",
    "            { 'SR': { '1k': [0.20,0.00,0.00], '2k': [0.20,0.00,0.00], '4k': [0.20,0.00,0.00]},\n",
    "              'LR': { '1k': [0.15,0.00,0.00], '2k': [0.15,0.00,0.00], '4k': [0.15,0.00,0.00]},\n",
    "              'HR': [0.70,0.73,0.00]\n",
    "            },\n",
    "}"
   ]
  },
  {
   "cell_type": "code",
   "execution_count": 4,
   "metadata": {},
   "outputs": [],
   "source": [
    "fig_res = {} # dictionary of result figures\n",
    "fig_inp = {} # dictionary of input figures"
   ]
  },
  {
   "cell_type": "code",
   "execution_count": 20,
   "metadata": {},
   "outputs": [],
   "source": [
    "sample = 'ucsdLEDsm'\n",
    "noises = list(levels[sample].keys())\n",
    "#frame_range = [200,509,0,509]\n",
    "#frame_range = [0,90,0,390]\n",
    "#frame_range = [0,512,0,512]\n",
    "frame_range = [0,390,5,58]\n",
    "extent = [[0, 0.5], [0, 1], [0, 1]]\n",
    "opacity = 5.00\n",
    "brightness = 2.00"
   ]
  },
  {
   "cell_type": "code",
   "execution_count": 15,
   "metadata": {},
   "outputs": [
    {
     "data": {
      "application/vnd.jupyter.widget-view+json": {
       "model_id": "7d42871be9b242619c364921df49938e",
       "version_major": 2,
       "version_minor": 0
      },
      "text/plain": [
       "VBox(children=(VBox(children=(HBox(children=(Label(value='levels:'), FloatSlider(value=0.35, max=1.0, step=0.0…"
      ]
     },
     "metadata": {},
     "output_type": "display_data"
    }
   ],
   "source": [
    "noise = '4k'\n",
    "input_vol = np.load('result_vol_npys/input_'+sample+'_vol_'+noise+'.npy')\n",
    "input_vol = input_vol[:,frame_range[0]:frame_range[1],frame_range[2]:frame_range[3]]\n",
    "input_vol = input_vol[:,::-1,::-1]\n",
    "mins = input_vol.min(axis=(0,1))\n",
    "maxs = input_vol.max(axis=(0,1))\n",
    "input_vol_norm = (input_vol - mins) / (maxs - mins)\n",
    "fig_inp[noise] = ipyvolume.figure(camera = figcam)\n",
    "ipyvolume.volshow(input_vol_norm[:,:,:],extent=extent,level=levels[sample]['LR'][noise],opacity=opacities[sample]['LR'][noise])\n",
    "fig_inp[noise].volumes[0].opacity_scale = opacity\n",
    "fig_inp[noise].volumes[0].brightness = brightness\n",
    "ipyvolume.pylab.xyzlabel(' ', ' ', ' ')\n",
    "ipyvolume.style.box_off()\n",
    "ipyvolume.show()"
   ]
  },
  {
   "cell_type": "code",
   "execution_count": 16,
   "metadata": {},
   "outputs": [
    {
     "data": {
      "application/vnd.jupyter.widget-view+json": {
       "model_id": "ce2396d513114e8c9114c827b69abb7e",
       "version_major": 2,
       "version_minor": 0
      },
      "text/plain": [
       "Output()"
      ]
     },
     "metadata": {},
     "output_type": "display_data"
    }
   ],
   "source": [
    "ipyvolume.pylab.savefig('input_3dfig_'+sample+'_'+noise+'.png',width=1280,height=720,fig=fig_inp[noise])"
   ]
  },
  {
   "cell_type": "code",
   "execution_count": 17,
   "metadata": {},
   "outputs": [
    {
     "data": {
      "application/vnd.jupyter.widget-view+json": {
       "model_id": "50292042e9b64654a6032b496c031f0a",
       "version_major": 2,
       "version_minor": 0
      },
      "text/plain": [
       "VBox(children=(VBox(children=(HBox(children=(Label(value='levels:'), FloatSlider(value=0.18, max=1.0, step=0.0…"
      ]
     },
     "metadata": {},
     "output_type": "display_data"
    }
   ],
   "source": [
    "avg_img = np.load('result_vol_npys/output_'+sample+'_vol_'+noise+'.npy')\n",
    "avg_img = avg_img[:,frame_range[0]:frame_range[1],frame_range[2]:frame_range[3]]\n",
    "avg_img = avg_img[:,::-1,::-1]\n",
    "mins = avg_img.min(axis=(0,1))\n",
    "maxs = avg_img.max(axis=(0,1))\n",
    "avg_img_norm = (avg_img - mins) / (maxs - mins)\n",
    "fig_res[noise] = ipyvolume.figure(camera = figcam)\n",
    "ipyvolume.volshow(avg_img_norm[:,:,:],extent=extent,level=levels[sample]['SR'][noise],opacity=opacities[sample]['SR'][noise])\n",
    "#ipyvolume.selector_default()\n",
    "fig_res[noise].volumes[0].opacity_scale = opacity\n",
    "fig_res[noise].volumes[0].brightness = brightness\n",
    "ipyvolume.pylab.xyzlabel(' ', ' ', ' ')\n",
    "ipyvolume.style.box_off()\n",
    "ipyvolume.show()"
   ]
  },
  {
   "cell_type": "code",
   "execution_count": 18,
   "metadata": {},
   "outputs": [
    {
     "data": {
      "application/vnd.jupyter.widget-view+json": {
       "model_id": "3a65a055c24e44698cc1b26806300e57",
       "version_major": 2,
       "version_minor": 0
      },
      "text/plain": [
       "Output()"
      ]
     },
     "metadata": {},
     "output_type": "display_data"
    }
   ],
   "source": [
    "ipyvolume.pylab.savefig('output_3dfig_'+sample+'_'+noise+'.png',width=1280,height=720,fig=fig_res[noise])"
   ]
  },
  {
   "cell_type": "code",
   "execution_count": 6,
   "metadata": {},
   "outputs": [
    {
     "name": "stderr",
     "output_type": "stream",
     "text": [
      "/opt/conda/lib/python3.6/site-packages/ipyvolume/widgets.py:179: FutureWarning: Using a non-tuple sequence for multidimensional indexing is deprecated; use `arr[tuple(seq)]` instead of `arr[seq]`. In the future this will be interpreted as an array index, `arr[np.array(seq)]`, which will result either in an error or a different result.\n",
      "  data_view = self.data_original[view]\n",
      "/opt/conda/lib/python3.6/site-packages/ipyvolume/utils.py:204: FutureWarning: Using a non-tuple sequence for multidimensional indexing is deprecated; use `arr[tuple(seq)]` instead of `arr[seq]`. In the future this will be interpreted as an array index, `arr[np.array(seq)]`, which will result either in an error or a different result.\n",
      "  data = (data[slices1] + data[slices2])/2\n"
     ]
    },
    {
     "data": {
      "application/vnd.jupyter.widget-view+json": {
       "model_id": "dde1ac3a136b4c09a9c0669723f3d92f",
       "version_major": 2,
       "version_minor": 0
      },
      "text/plain": [
       "VBox(children=(VBox(children=(HBox(children=(Label(value='levels:'), FloatSlider(value=0.5, max=1.0, step=0.00…"
      ]
     },
     "metadata": {},
     "output_type": "display_data"
    }
   ],
   "source": [
    "noise = '2k'\n",
    "input_vol = np.load('result_vol_npys/input_'+sample+'_vol_'+noise+'.npy')\n",
    "input_vol = input_vol[:,frame_range[0]:frame_range[1],frame_range[2]:frame_range[3]]\n",
    "input_vol = input_vol[:,::-1,::-1]\n",
    "mins = input_vol.min(axis=(0,1))\n",
    "maxs = input_vol.max(axis=(0,1))\n",
    "input_vol_norm = (input_vol - mins) / (maxs - mins)\n",
    "fig_inp[noise] = ipyvolume.figure(camera = figcam)\n",
    "ipyvolume.volshow(input_vol_norm[:,:,:],extent=extent,level=levels[sample]['LR'][noise],opacity=opacities[sample]['LR'][noise])\n",
    "fig_inp[noise].volumes[0].opacity_scale = opacity\n",
    "fig_inp[noise].volumes[0].brightness = brightness\n",
    "ipyvolume.pylab.xyzlabel(' ', ' ', ' ')\n",
    "ipyvolume.style.box_off()\n",
    "ipyvolume.show()"
   ]
  },
  {
   "cell_type": "code",
   "execution_count": 8,
   "metadata": {},
   "outputs": [
    {
     "data": {
      "application/vnd.jupyter.widget-view+json": {
       "model_id": "1a44c1a236fd4310a354eb2ed3609b9f",
       "version_major": 2,
       "version_minor": 0
      },
      "text/plain": [
       "Output()"
      ]
     },
     "metadata": {},
     "output_type": "display_data"
    }
   ],
   "source": [
    "ipyvolume.pylab.savefig('input_3dfig_'+sample+'_'+noise+'.png',width=1280,height=720,fig=fig_inp[noise])"
   ]
  },
  {
   "cell_type": "code",
   "execution_count": 9,
   "metadata": {},
   "outputs": [
    {
     "name": "stderr",
     "output_type": "stream",
     "text": [
      "/opt/conda/lib/python3.6/site-packages/ipyvolume/serialize.py:81: RuntimeWarning: invalid value encountered in true_divide\n",
      "  gradient = gradient / np.sqrt(gradient[0]**2 + gradient[1]**2 + gradient[2]**2)\n"
     ]
    },
    {
     "data": {
      "application/vnd.jupyter.widget-view+json": {
       "model_id": "535a65c4ab75401d8388433bf7e5a7f6",
       "version_major": 2,
       "version_minor": 0
      },
      "text/plain": [
       "VBox(children=(VBox(children=(HBox(children=(Label(value='levels:'), FloatSlider(value=0.18, max=1.0, step=0.0…"
      ]
     },
     "metadata": {},
     "output_type": "display_data"
    }
   ],
   "source": [
    "avg_img = np.load('result_vol_npys/output_'+sample+'_vol_'+noise+'.npy')\n",
    "avg_img = avg_img[:,frame_range[0]:frame_range[1],frame_range[2]:frame_range[3]]\n",
    "avg_img = avg_img[:,::-1,::-1]\n",
    "mins = avg_img.min(axis=(0,1))\n",
    "maxs = avg_img.max(axis=(0,1))\n",
    "avg_img_norm = (avg_img - mins) / (maxs - mins)\n",
    "fig_res[noise] = ipyvolume.figure(camera = figcam)\n",
    "ipyvolume.volshow(avg_img_norm[:,:,:],extent=extent,level=levels[sample]['SR'][noise],opacity=opacities[sample]['SR'][noise])\n",
    "#ipyvolume.selector_default()\n",
    "fig_res[noise].volumes[0].opacity_scale = opacity\n",
    "fig_res[noise].volumes[0].brightness = brightness\n",
    "ipyvolume.pylab.xyzlabel(' ', ' ', ' ')\n",
    "ipyvolume.style.box_off()\n",
    "ipyvolume.show()"
   ]
  },
  {
   "cell_type": "code",
   "execution_count": 10,
   "metadata": {},
   "outputs": [
    {
     "data": {
      "application/vnd.jupyter.widget-view+json": {
       "model_id": "12d0b91ecbb34696ac14ef9f4fe41dfb",
       "version_major": 2,
       "version_minor": 0
      },
      "text/plain": [
       "Output()"
      ]
     },
     "metadata": {},
     "output_type": "display_data"
    }
   ],
   "source": [
    "ipyvolume.pylab.savefig('output_3dfig_'+sample+'_'+noise+'.png',width=1280,height=720,fig=fig_res[noise])"
   ]
  },
  {
   "cell_type": "code",
   "execution_count": 11,
   "metadata": {},
   "outputs": [
    {
     "data": {
      "application/vnd.jupyter.widget-view+json": {
       "model_id": "d5f8aa8badae43b1aa21ca47579dca5f",
       "version_major": 2,
       "version_minor": 0
      },
      "text/plain": [
       "VBox(children=(VBox(children=(HBox(children=(Label(value='levels:'), FloatSlider(value=0.55, max=1.0, step=0.0…"
      ]
     },
     "metadata": {},
     "output_type": "display_data"
    }
   ],
   "source": [
    "noise = '1k'\n",
    "input_vol = np.load('result_vol_npys/input_'+sample+'_vol_'+noise+'.npy')\n",
    "input_vol = input_vol[:,frame_range[0]:frame_range[1],frame_range[2]:frame_range[3]]\n",
    "input_vol = input_vol[:,::-1,::-1]\n",
    "mins = input_vol.min(axis=(0,1))\n",
    "maxs = input_vol.max(axis=(0,1))\n",
    "input_vol_norm = (input_vol - mins) / (maxs - mins)\n",
    "fig_inp[noise] = ipyvolume.figure(camera = figcam)\n",
    "ipyvolume.volshow(input_vol_norm[:,:,:],extent=extent,level=levels[sample]['LR'][noise],opacity=opacities[sample]['LR'][noise])\n",
    "fig_inp[noise].volumes[0].opacity_scale = opacity\n",
    "fig_inp[noise].volumes[0].brightness = brightness\n",
    "ipyvolume.pylab.xyzlabel(' ', ' ', ' ')\n",
    "ipyvolume.style.box_off()\n",
    "ipyvolume.show()"
   ]
  },
  {
   "cell_type": "code",
   "execution_count": 12,
   "metadata": {},
   "outputs": [
    {
     "data": {
      "application/vnd.jupyter.widget-view+json": {
       "model_id": "04a90adc7dbe462b893b69e57ec3411d",
       "version_major": 2,
       "version_minor": 0
      },
      "text/plain": [
       "Output()"
      ]
     },
     "metadata": {},
     "output_type": "display_data"
    }
   ],
   "source": [
    "ipyvolume.pylab.savefig('input_3dfig_'+sample+'_'+noise+'.png',width=1280,height=720,fig=fig_inp[noise])"
   ]
  },
  {
   "cell_type": "code",
   "execution_count": 13,
   "metadata": {},
   "outputs": [
    {
     "data": {
      "application/vnd.jupyter.widget-view+json": {
       "model_id": "2c431fcbecb74d2fa4ac7ad459cb8f27",
       "version_major": 2,
       "version_minor": 0
      },
      "text/plain": [
       "VBox(children=(VBox(children=(HBox(children=(Label(value='levels:'), FloatSlider(value=0.18, max=1.0, step=0.0…"
      ]
     },
     "metadata": {},
     "output_type": "display_data"
    }
   ],
   "source": [
    "avg_img = np.load('result_vol_npys/output_'+sample+'_vol_'+noise+'.npy')\n",
    "avg_img = avg_img[:,frame_range[0]:frame_range[1],frame_range[2]:frame_range[3]]\n",
    "avg_img = avg_img[:,::-1,::-1]\n",
    "mins = avg_img.min(axis=(0,1))\n",
    "maxs = avg_img.max(axis=(0,1))\n",
    "avg_img_norm = (avg_img - mins) / (maxs - mins)\n",
    "fig_res[noise] = ipyvolume.figure(camera = figcam)\n",
    "ipyvolume.volshow(avg_img_norm[:,:,:],extent=extent,level=levels[sample]['SR'][noise],opacity=opacities[sample]['SR'][noise])\n",
    "#ipyvolume.selector_default()\n",
    "fig_res[noise].volumes[0].opacity_scale = opacity\n",
    "fig_res[noise].volumes[0].brightness = brightness\n",
    "ipyvolume.pylab.xyzlabel(' ', ' ', ' ')\n",
    "ipyvolume.style.box_off()\n",
    "ipyvolume.show()"
   ]
  },
  {
   "cell_type": "code",
   "execution_count": 14,
   "metadata": {},
   "outputs": [
    {
     "data": {
      "application/vnd.jupyter.widget-view+json": {
       "model_id": "a07caed9b0aa4ac6b334add7f0ffa049",
       "version_major": 2,
       "version_minor": 0
      },
      "text/plain": [
       "Output()"
      ]
     },
     "metadata": {},
     "output_type": "display_data"
    }
   ],
   "source": [
    "ipyvolume.pylab.savefig('output_3dfig_'+sample+'_'+noise+'.png',width=1280,height=720,fig=fig_res[noise])"
   ]
  },
  {
   "cell_type": "code",
   "execution_count": 71,
   "metadata": {},
   "outputs": [
    {
     "ename": "FileNotFoundError",
     "evalue": "[Errno 2] No such file or directory: 'result_vol_npys/gt_ucsdLEDsm_vol.npy'",
     "output_type": "error",
     "traceback": [
      "\u001b[0;31m---------------------------------------------------------------------------\u001b[0m",
      "\u001b[0;31mFileNotFoundError\u001b[0m                         Traceback (most recent call last)",
      "\u001b[0;32m<ipython-input-71-6ba4509dcc78>\u001b[0m in \u001b[0;36m<module>\u001b[0;34m\u001b[0m\n\u001b[0;32m----> 1\u001b[0;31m \u001b[0mgt_vol\u001b[0m \u001b[0;34m=\u001b[0m \u001b[0mnp\u001b[0m\u001b[0;34m.\u001b[0m\u001b[0mload\u001b[0m\u001b[0;34m(\u001b[0m\u001b[0;34m'result_vol_npys/gt_'\u001b[0m\u001b[0;34m+\u001b[0m\u001b[0msample\u001b[0m\u001b[0;34m+\u001b[0m\u001b[0;34m'_vol.npy'\u001b[0m\u001b[0;34m)\u001b[0m\u001b[0;34m\u001b[0m\u001b[0;34m\u001b[0m\u001b[0m\n\u001b[0m\u001b[1;32m      2\u001b[0m \u001b[0mgt_vol\u001b[0m \u001b[0;34m=\u001b[0m \u001b[0mgt_vol\u001b[0m\u001b[0;34m[\u001b[0m\u001b[0;34m:\u001b[0m\u001b[0;34m,\u001b[0m\u001b[0mframe_range\u001b[0m\u001b[0;34m[\u001b[0m\u001b[0;36m0\u001b[0m\u001b[0;34m]\u001b[0m\u001b[0;34m:\u001b[0m\u001b[0mframe_range\u001b[0m\u001b[0;34m[\u001b[0m\u001b[0;36m1\u001b[0m\u001b[0;34m]\u001b[0m\u001b[0;34m,\u001b[0m\u001b[0mframe_range\u001b[0m\u001b[0;34m[\u001b[0m\u001b[0;36m2\u001b[0m\u001b[0;34m]\u001b[0m\u001b[0;34m:\u001b[0m\u001b[0mframe_range\u001b[0m\u001b[0;34m[\u001b[0m\u001b[0;36m3\u001b[0m\u001b[0;34m]\u001b[0m\u001b[0;34m]\u001b[0m\u001b[0;34m\u001b[0m\u001b[0;34m\u001b[0m\u001b[0m\n\u001b[1;32m      3\u001b[0m \u001b[0mmins\u001b[0m \u001b[0;34m=\u001b[0m \u001b[0mgt_vol\u001b[0m\u001b[0;34m.\u001b[0m\u001b[0mmin\u001b[0m\u001b[0;34m(\u001b[0m\u001b[0maxis\u001b[0m\u001b[0;34m=\u001b[0m\u001b[0;34m(\u001b[0m\u001b[0;36m0\u001b[0m\u001b[0;34m,\u001b[0m\u001b[0;36m1\u001b[0m\u001b[0;34m)\u001b[0m\u001b[0;34m)\u001b[0m\u001b[0;34m\u001b[0m\u001b[0;34m\u001b[0m\u001b[0m\n\u001b[1;32m      4\u001b[0m \u001b[0mmaxs\u001b[0m \u001b[0;34m=\u001b[0m \u001b[0mgt_vol\u001b[0m\u001b[0;34m.\u001b[0m\u001b[0mmax\u001b[0m\u001b[0;34m(\u001b[0m\u001b[0maxis\u001b[0m\u001b[0;34m=\u001b[0m\u001b[0;34m(\u001b[0m\u001b[0;36m0\u001b[0m\u001b[0;34m,\u001b[0m\u001b[0;36m1\u001b[0m\u001b[0;34m)\u001b[0m\u001b[0;34m)\u001b[0m\u001b[0;34m\u001b[0m\u001b[0;34m\u001b[0m\u001b[0m\n\u001b[1;32m      5\u001b[0m \u001b[0mgt_vol_norm\u001b[0m \u001b[0;34m=\u001b[0m \u001b[0;34m(\u001b[0m\u001b[0mgt_vol\u001b[0m \u001b[0;34m-\u001b[0m \u001b[0mmins\u001b[0m\u001b[0;34m)\u001b[0m \u001b[0;34m/\u001b[0m \u001b[0;34m(\u001b[0m\u001b[0mmaxs\u001b[0m \u001b[0;34m-\u001b[0m \u001b[0mmins\u001b[0m\u001b[0;34m)\u001b[0m\u001b[0;34m\u001b[0m\u001b[0;34m\u001b[0m\u001b[0m\n",
      "\u001b[0;32m/opt/conda/lib/python3.6/site-packages/numpy/lib/npyio.py\u001b[0m in \u001b[0;36mload\u001b[0;34m(file, mmap_mode, allow_pickle, fix_imports, encoding)\u001b[0m\n\u001b[1;32m    382\u001b[0m     \u001b[0mown_fid\u001b[0m \u001b[0;34m=\u001b[0m \u001b[0;32mFalse\u001b[0m\u001b[0;34m\u001b[0m\u001b[0;34m\u001b[0m\u001b[0m\n\u001b[1;32m    383\u001b[0m     \u001b[0;32mif\u001b[0m \u001b[0misinstance\u001b[0m\u001b[0;34m(\u001b[0m\u001b[0mfile\u001b[0m\u001b[0;34m,\u001b[0m \u001b[0mbasestring\u001b[0m\u001b[0;34m)\u001b[0m\u001b[0;34m:\u001b[0m\u001b[0;34m\u001b[0m\u001b[0;34m\u001b[0m\u001b[0m\n\u001b[0;32m--> 384\u001b[0;31m         \u001b[0mfid\u001b[0m \u001b[0;34m=\u001b[0m \u001b[0mopen\u001b[0m\u001b[0;34m(\u001b[0m\u001b[0mfile\u001b[0m\u001b[0;34m,\u001b[0m \u001b[0;34m\"rb\"\u001b[0m\u001b[0;34m)\u001b[0m\u001b[0;34m\u001b[0m\u001b[0;34m\u001b[0m\u001b[0m\n\u001b[0m\u001b[1;32m    385\u001b[0m         \u001b[0mown_fid\u001b[0m \u001b[0;34m=\u001b[0m \u001b[0;32mTrue\u001b[0m\u001b[0;34m\u001b[0m\u001b[0;34m\u001b[0m\u001b[0m\n\u001b[1;32m    386\u001b[0m     \u001b[0;32melif\u001b[0m \u001b[0mis_pathlib_path\u001b[0m\u001b[0;34m(\u001b[0m\u001b[0mfile\u001b[0m\u001b[0;34m)\u001b[0m\u001b[0;34m:\u001b[0m\u001b[0;34m\u001b[0m\u001b[0;34m\u001b[0m\u001b[0m\n",
      "\u001b[0;31mFileNotFoundError\u001b[0m: [Errno 2] No such file or directory: 'result_vol_npys/gt_ucsdLEDsm_vol.npy'"
     ]
    }
   ],
   "source": [
    "gt_vol = np.load('result_vol_npys/gt_'+sample+'_vol.npy')\n",
    "gt_vol = gt_vol[:,frame_range[0]:frame_range[1],frame_range[2]:frame_range[3]]\n",
    "mins = gt_vol.min(axis=(0,1))\n",
    "maxs = gt_vol.max(axis=(0,1))\n",
    "gt_vol_norm = (gt_vol - mins) / (maxs - mins)\n",
    "fig_gt = ipyvolume.figure(camera = figcam)\n",
    "ipyvolume.volshow(gt_vol_norm[:,:,:],level=levels[sample]['LR'][noise],opacity=opacities[sample]['LR'][noise],specular_exponent=5)\n",
    "fig_gt.volumes[0].opacity_scale = opacity\n",
    "fig_gt.volumes[0].brightness = brightness\n",
    "ipyvolume.pylab.xyzlabel(' ', ' ', ' ')\n",
    "ipyvolume.show()"
   ]
  },
  {
   "cell_type": "code",
   "execution_count": 36,
   "metadata": {},
   "outputs": [
    {
     "data": {
      "application/vnd.jupyter.widget-view+json": {
       "model_id": "01fdf78829c24e04b289c43d48c75fe2",
       "version_major": 2,
       "version_minor": 0
      },
      "text/plain": [
       "Output()"
      ]
     },
     "metadata": {},
     "output_type": "display_data"
    }
   ],
   "source": [
    "ipyvolume.pylab.savefig('gt_3dfig_'+sample+'.png',width=1280,height=720,fig = fig_gt)"
   ]
  },
  {
   "cell_type": "markdown",
   "metadata": {},
   "source": [
    "## Convert full UCSD sample data into MATLAB"
   ]
  },
  {
   "cell_type": "code",
   "execution_count": 22,
   "metadata": {},
   "outputs": [],
   "source": [
    "import scipy.io as sio"
   ]
  },
  {
   "cell_type": "code",
   "execution_count": 23,
   "metadata": {},
   "outputs": [],
   "source": [
    "noises = ['1k','2k','4k']\n",
    "for noise in noises:\n",
    "    sr_data = np.load('result_vol_npys/output_'+sample+'_vol_'+noise+'.npy')\n",
    "    lr_data = np.load('result_vol_npys/input_'+sample+'_vol_'+noise+'.npy')\n",
    "    mins = sr_data.min(axis=(0,1))\n",
    "    maxs = sr_data.max(axis=(0,1))\n",
    "    sr_data_norm = (sr_data - mins) / (maxs - mins)\n",
    "    mins = lr_data.min(axis=(0,1))\n",
    "    maxs = lr_data.max(axis=(0,1))\n",
    "    lr_data_norm = (lr_data - mins) / (maxs - mins)    \n",
    "    sio.savemat('_'+noise+'_LR.mat',{'vect':lr_data})\n",
    "    sio.savemat(sample+'_'+noise+'_SR.mat',{'vect':sr_data})\n",
    "    sio.savemat(sample+'_norm_'+noise+'_LR.mat',{'vect':lr_data_norm})\n",
    "    sio.savemat(sample+'_norm_'+noise+'_SR.mat',{'vect':sr_data_norm})\n",
    "#hr_data = np.load('target_ucsd_vol.npy')\n",
    "#mins = hr_data.min(axis=(0,1))\n",
    "#maxs = hr_data.max(axis=(0,1))\n",
    "#hr_data_norm = (hr_data - mins) / (maxs - mins) \n",
    "#sio.savemat('UCSD900_HR.mat',{'vect':hr_data})\n",
    "#sio.savemat('UCSD900_norm_HR.mat',{'vect':hr_data_norm})"
   ]
  },
  {
   "cell_type": "code",
   "execution_count": null,
   "metadata": {},
   "outputs": [],
   "source": []
  }
 ],
 "metadata": {
  "kernelspec": {
   "display_name": "Python 3",
   "language": "python",
   "name": "python3"
  },
  "language_info": {
   "codemirror_mode": {
    "name": "ipython",
    "version": 3
   },
   "file_extension": ".py",
   "mimetype": "text/x-python",
   "name": "python",
   "nbconvert_exporter": "python",
   "pygments_lexer": "ipython3",
   "version": "3.6.7"
  }
 },
 "nbformat": 4,
 "nbformat_minor": 2
}
