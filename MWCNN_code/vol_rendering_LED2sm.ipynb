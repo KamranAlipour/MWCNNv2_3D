{
 "cells": [
  {
   "cell_type": "code",
   "execution_count": 378,
   "metadata": {},
   "outputs": [],
   "source": [
    "import glob\n",
    "import ipywidgets\n",
    "import ipyvolume\n",
    "import cv2\n",
    "import numpy as np\n",
    "import os\n",
    "import time"
   ]
  },
  {
   "cell_type": "code",
   "execution_count": 379,
   "metadata": {},
   "outputs": [],
   "source": [
    "import pythreejs\n",
    "figcam = pythreejs.PerspectiveCamera(aspect=0.8, fov=46.0, matrixWorldNeedsUpdate=True, position=(1.785528946985704, 1.3757523415625494, 2.412892214337929), projectionMatrix=(2.9448154572796907, 0.0, 0.0, 0.0, 0.0, 2.3558523658237527, 0.0, 0.0, 0.0, 0.0, -1.00010000500025, -1.0, 0.0, 0.0, -0.200010000500025, 0.0), quaternion=(-0.19796316984919116, 0.30892794387643674, 0.08046673488216134, 0.9267681551784899), rotation=(-0.5181948251143776, 0.5713287660544955, 0.3285944197012996, 'XYZ'), scale=(1.0, 1.0, 1.0), up=(-0.27146072492949946, 0.9086713759213286, -0.31721507751364897))"
   ]
  },
  {
   "cell_type": "code",
   "execution_count": 380,
   "metadata": {},
   "outputs": [],
   "source": [
    "figcam = pythreejs.PerspectiveCamera(aspect= 0.8, fov= 46.0, matrixWorldNeedsUpdate= True, position= (1.8634035771785555, 1.8424395267808371, 1.247399960480493),  projectionMatrix= (2.9448154572796907, 0.0, 0.0, 0.0, 0.0, 2.3558523658237527, 0.0, 0.0, 0.0, 0.0, -1.00010000500025, -1.0, 0.0, 0.0, -0.200010000500025, 0.0), quaternion= (-0.30349208511373676, 0.4393038577522591, 0.14736527540169084, 0.8325792157164885), rotation= (-0.9756484969113725, 0.6971850344672847, 0.7313655980811482, 'XYZ'), scale= (1.0, 1.0, 1.0),  up=(-0.5120370184110512, 0.7723520597582004, -0.3758861364349397))"
   ]
  },
  {
   "cell_type": "code",
   "execution_count": 381,
   "metadata": {},
   "outputs": [],
   "source": [
    "  figcam = pythreejs.PerspectiveCamera(aspect= 0.8, fov= 46.0, matrixWorldNeedsUpdate= True, position= (1.863950351022152, 0.9868301900448053, 0.7457858863923755),  projectionMatrix= (2.9448154572796907, 0.0, 0.0, 0.0, 0.0, 2.3558523658237527, 0.0, 0.0, 0.0, 0.0, -1.00010000500025, -1.0, 0.0, 0.0, -0.200010000500025, 0.0), quaternion= (-0.19995936160138095, 0.5415956146940057, 0.10846490922136856, 0.8092748651229632), rotation= (-0.9236324771770482, 0.9849099252837857, 0.7883790508844056, 'XYZ'), scale= (1.0, 1.0, 1.0),  up=(-0.3921500762820368, 0.8965032343511368, -0.20615593241510943))"
   ]
  },
  {
   "cell_type": "markdown",
   "metadata": {},
   "source": [
    "## Volume Rendering"
   ]
  },
  {
   "cell_type": "code",
   "execution_count": 412,
   "metadata": {},
   "outputs": [],
   "source": [
    "levels = {\n",
    "    'ucsdLED2sm':\n",
    "         {\n",
    "             'SR': { '1k': [0.18, 0.00], '2k': [0.18, 0.00], '4k': [0.15, 0.00] },\n",
    "             'LR': { '1k': [0.55, 0.00], '2k': [0.45, 0.00], '4k': [0.35, 0.00] },\n",
    "             'HR': [1.00, 0.75]\n",
    "         }\n",
    "}\n",
    "\n",
    "opacities = {\n",
    "       'ucsdLED2sm':\n",
    "            { 'SR': { '1k': [0.20,0.00,0.00], '2k': [0.20,0.00,0.00], '4k': [0.20,0.00,0.00]},\n",
    "              'LR': { '1k': [0.15,0.00,0.00], '2k': [0.15,0.00,0.00], '4k': [0.15,0.00,0.00]},\n",
    "              'HR': [0.70,0.73,0.00]\n",
    "            },\n",
    "}"
   ]
  },
  {
   "cell_type": "code",
   "execution_count": 383,
   "metadata": {},
   "outputs": [],
   "source": [
    "fig_res = {} # dictionary of result figures\n",
    "fig_inp = {} # dictionary of input figures"
   ]
  },
  {
   "cell_type": "code",
   "execution_count": 384,
   "metadata": {},
   "outputs": [],
   "source": [
    "sample = 'ucsdLED2sm'\n",
    "noises = list(levels[sample].keys())\n",
    "#frame_range = [200,509,0,509]\n",
    "frame_range = [0,10,60,360,10,125]\n",
    "#frame_range = [0,512,0,512]\n",
    "#frame_range = [0,390,5,58]\n",
    "#extent = [[0, 0.3], [0, 1.0], [0, 0.2]]\n",
    "extent = np.array([[0, 0.1], [0, 0.5], [0, 1]])\n",
    "transpose_arr = [1, 0, 2]\n",
    "extent =  extent[transpose_arr]\n",
    "#extent = np.array([[0, 1.0], [0, 0.4], [0, 0.1]])\n",
    "opacity = 5.00\n",
    "brightness = 2.00"
   ]
  },
  {
   "cell_type": "code",
   "execution_count": 385,
   "metadata": {},
   "outputs": [
    {
     "data": {
      "application/vnd.jupyter.widget-view+json": {
       "model_id": "c49a86cfd9f3436782929e686f449b79",
       "version_major": 2,
       "version_minor": 0
      },
      "text/plain": [
       "VBox(children=(VBox(children=(HBox(children=(Label(value='levels:'), FloatSlider(value=0.35, max=1.0, step=0.0…"
      ]
     },
     "metadata": {},
     "output_type": "display_data"
    }
   ],
   "source": [
    "noise = '4k'\n",
    "input_vol = np.load('result_vol_npys/input_'+sample+'_vol_'+noise+'.npy')\n",
    "input_vol = input_vol[frame_range[0]:frame_range[1],frame_range[2]:frame_range[3],frame_range[4]:frame_range[5]]\n",
    "#input_vol = input_vol[:,::-1,::-1]\n",
    "input_vol = input_vol[:,:,::-1]\n",
    "input_vol =  np.transpose(input_vol, transpose_arr)\n",
    "mins = input_vol.min(axis=(0,1))\n",
    "maxs = input_vol.max(axis=(0,1))\n",
    "input_vol_norm = (input_vol - mins) / (maxs - mins)\n",
    "fig_inp[noise] = ipyvolume.figure(camera = figcam)\n",
    "ipyvolume.volshow(input_vol_norm[:,:,:],extent=list(extent),level=levels[sample]['LR'][noise],opacity=opacities[sample]['LR'][noise])\n",
    "fig_inp[noise].volumes[0].opacity_scale = opacity\n",
    "fig_inp[noise].volumes[0].brightness = brightness\n",
    "ipyvolume.pylab.xyzlabel(' ', ' ', ' ')\n",
    "ipyvolume.style.box_off()\n",
    "ipyvolume.show()"
   ]
  },
  {
   "cell_type": "code",
   "execution_count": 410,
   "metadata": {},
   "outputs": [
    {
     "data": {
      "application/vnd.jupyter.widget-view+json": {
       "model_id": "c6311115d2174a56be8dcde78875ddd8",
       "version_major": 2,
       "version_minor": 0
      },
      "text/plain": [
       "Output()"
      ]
     },
     "metadata": {},
     "output_type": "display_data"
    }
   ],
   "source": [
    "noise = '4k'\n",
    "ipyvolume.pylab.savefig('input_3dfig_'+sample+'_'+noise+'.png',width=1280,height=720,fig=fig_inp[noise])"
   ]
  },
  {
   "cell_type": "code",
   "execution_count": 386,
   "metadata": {},
   "outputs": [
    {
     "data": {
      "application/vnd.jupyter.widget-view+json": {
       "model_id": "07386df04f9b48a59e392492cc914376",
       "version_major": 2,
       "version_minor": 0
      },
      "text/plain": [
       "VBox(children=(VBox(children=(HBox(children=(Label(value='levels:'), FloatSlider(value=0.18, max=1.0, step=0.0…"
      ]
     },
     "metadata": {},
     "output_type": "display_data"
    }
   ],
   "source": [
    "avg_img = np.load('result_vol_npys/output_'+sample+'_vol_'+noise+'.npy')\n",
    "avg_img = avg_img[frame_range[0]:frame_range[1],frame_range[2]:frame_range[3],frame_range[4]:frame_range[5]]\n",
    "#avg_img = avg_img[:,::-1,::-1]\n",
    "avg_img = avg_img[:,:,::-1]\n",
    "avg_img =  np.transpose(avg_img, transpose_arr)\n",
    "mins = avg_img.min(axis=(0,1))\n",
    "maxs = avg_img.max(axis=(0,1))\n",
    "avg_img_norm = (avg_img - mins) / (maxs - mins)\n",
    "fig_res[noise] = ipyvolume.figure(camera = figcam)\n",
    "ipyvolume.volshow(avg_img_norm[:,:,:],extent=list(extent),level=levels[sample]['SR'][noise],opacity=opacities[sample]['SR'][noise])\n",
    "#ipyvolume.selector_default()\n",
    "fig_res[noise].volumes[0].opacity_scale = opacity\n",
    "fig_res[noise].volumes[0].brightness = brightness\n",
    "ipyvolume.pylab.xyzlabel(' ', ' ', ' ')\n",
    "ipyvolume.style.box_off()\n",
    "ipyvolume.show()"
   ]
  },
  {
   "cell_type": "code",
   "execution_count": 411,
   "metadata": {},
   "outputs": [
    {
     "data": {
      "application/vnd.jupyter.widget-view+json": {
       "model_id": "9e354560cd39499d8952b31fe00229cf",
       "version_major": 2,
       "version_minor": 0
      },
      "text/plain": [
       "Output()"
      ]
     },
     "metadata": {},
     "output_type": "display_data"
    }
   ],
   "source": [
    "noise = '4k'\n",
    "ipyvolume.pylab.savefig('output_3dfig_'+sample+'_'+noise+'.png',width=1280,height=720,fig=fig_res[noise])"
   ]
  },
  {
   "cell_type": "code",
   "execution_count": 387,
   "metadata": {},
   "outputs": [
    {
     "data": {
      "application/vnd.jupyter.widget-view+json": {
       "model_id": "38356153ec1d4b6d82f7f811b26e0212",
       "version_major": 2,
       "version_minor": 0
      },
      "text/plain": [
       "VBox(children=(VBox(children=(HBox(children=(Label(value='levels:'), FloatSlider(value=0.45, max=1.0, step=0.0…"
      ]
     },
     "metadata": {},
     "output_type": "display_data"
    }
   ],
   "source": [
    "noise = '2k'\n",
    "input_vol = np.load('result_vol_npys/input_'+sample+'_vol_'+noise+'.npy')\n",
    "input_vol = input_vol[frame_range[0]:frame_range[1],frame_range[2]:frame_range[3],frame_range[4]:frame_range[5]]\n",
    "#input_vol = input_vol[:,::-1,::-1]\n",
    "input_vol = input_vol[:,:,::-1]\n",
    "input_vol =  np.transpose(input_vol, transpose_arr)\n",
    "mins = input_vol.min(axis=(0,1))\n",
    "maxs = input_vol.max(axis=(0,1))\n",
    "input_vol_norm = (input_vol - mins) / (maxs - mins)\n",
    "fig_inp[noise] = ipyvolume.figure(camera = figcam)\n",
    "ipyvolume.volshow(input_vol_norm[:,:,:],extent=list(extent),level=levels[sample]['LR'][noise],opacity=opacities[sample]['LR'][noise])\n",
    "fig_inp[noise].volumes[0].opacity_scale = opacity\n",
    "fig_inp[noise].volumes[0].brightness = brightness\n",
    "ipyvolume.pylab.xyzlabel(' ', ' ', ' ')\n",
    "ipyvolume.style.box_off()\n",
    "ipyvolume.show()"
   ]
  },
  {
   "cell_type": "code",
   "execution_count": 408,
   "metadata": {},
   "outputs": [
    {
     "data": {
      "application/vnd.jupyter.widget-view+json": {
       "model_id": "db3f9f3bf9c24f13937d4e254d520946",
       "version_major": 2,
       "version_minor": 0
      },
      "text/plain": [
       "Output()"
      ]
     },
     "metadata": {},
     "output_type": "display_data"
    }
   ],
   "source": [
    "noise = '2k'\n",
    "ipyvolume.pylab.savefig('input_3dfig_'+sample+'_'+noise+'.png',width=1280,height=720,fig=fig_inp[noise])"
   ]
  },
  {
   "cell_type": "code",
   "execution_count": 388,
   "metadata": {},
   "outputs": [
    {
     "data": {
      "application/vnd.jupyter.widget-view+json": {
       "model_id": "035f1fe6697f4ce7a4ab5702d77f5d9a",
       "version_major": 2,
       "version_minor": 0
      },
      "text/plain": [
       "VBox(children=(VBox(children=(HBox(children=(Label(value='levels:'), FloatSlider(value=0.18, max=1.0, step=0.0…"
      ]
     },
     "metadata": {},
     "output_type": "display_data"
    }
   ],
   "source": [
    "avg_img = np.load('result_vol_npys/output_'+sample+'_vol_'+noise+'.npy')\n",
    "avg_img = avg_img[frame_range[0]:frame_range[1],frame_range[2]:frame_range[3],frame_range[4]:frame_range[5]]\n",
    "#avg_img = avg_img[:,::-1,::-1]\n",
    "avg_img = avg_img[:,:,::-1]\n",
    "avg_img =  np.transpose(avg_img, transpose_arr)\n",
    "mins = avg_img.min(axis=(0,1))\n",
    "maxs = avg_img.max(axis=(0,1))\n",
    "avg_img_norm = (avg_img - mins) / (maxs - mins)\n",
    "fig_res[noise] = ipyvolume.figure(camera = figcam)\n",
    "ipyvolume.volshow(avg_img_norm[:,:,:],extent=list(extent),level=levels[sample]['SR'][noise],opacity=opacities[sample]['SR'][noise])\n",
    "#ipyvolume.selector_default()\n",
    "fig_res[noise].volumes[0].opacity_scale = opacity\n",
    "fig_res[noise].volumes[0].brightness = brightness\n",
    "ipyvolume.pylab.xyzlabel(' ', ' ', ' ')\n",
    "ipyvolume.style.box_off()\n",
    "ipyvolume.show()"
   ]
  },
  {
   "cell_type": "code",
   "execution_count": 407,
   "metadata": {},
   "outputs": [
    {
     "data": {
      "application/vnd.jupyter.widget-view+json": {
       "model_id": "a0dbd618f4d74ba0b81c1a9b1186a2a4",
       "version_major": 2,
       "version_minor": 0
      },
      "text/plain": [
       "Output()"
      ]
     },
     "metadata": {},
     "output_type": "display_data"
    }
   ],
   "source": [
    "noise = '2k'\n",
    "ipyvolume.pylab.savefig('output_3dfig_'+sample+'_'+noise+'.png',width=1280,height=720,fig=fig_res[noise])"
   ]
  },
  {
   "cell_type": "code",
   "execution_count": 389,
   "metadata": {},
   "outputs": [
    {
     "data": {
      "application/vnd.jupyter.widget-view+json": {
       "model_id": "51b36591d53a4c9084b91aee44674f36",
       "version_major": 2,
       "version_minor": 0
      },
      "text/plain": [
       "VBox(children=(VBox(children=(HBox(children=(Label(value='levels:'), FloatSlider(value=0.55, max=1.0, step=0.0…"
      ]
     },
     "metadata": {},
     "output_type": "display_data"
    }
   ],
   "source": [
    "noise = '1k'\n",
    "input_vol = np.load('result_vol_npys/input_'+sample+'_vol_'+noise+'.npy')\n",
    "input_vol = input_vol[frame_range[0]:frame_range[1],frame_range[2]:frame_range[3],frame_range[4]:frame_range[5]]\n",
    "#input_vol = input_vol[:,::-1,::-1]\n",
    "input_vol = input_vol[:,:,::-1]\n",
    "input_vol =  np.transpose(input_vol, transpose_arr)\n",
    "mins = input_vol.min(axis=(0,1))\n",
    "maxs = input_vol.max(axis=(0,1))\n",
    "input_vol_norm = (input_vol - mins) / (maxs - mins)\n",
    "fig_inp[noise] = ipyvolume.figure(camera = figcam)\n",
    "ipyvolume.volshow(input_vol_norm[:,:,:],extent=list(extent),level=levels[sample]['LR'][noise],opacity=opacities[sample]['LR'][noise])\n",
    "fig_inp[noise].volumes[0].opacity_scale = opacity\n",
    "fig_inp[noise].volumes[0].brightness = brightness\n",
    "ipyvolume.pylab.xyzlabel(' ', ' ', ' ')\n",
    "ipyvolume.style.box_off()\n",
    "ipyvolume.show()"
   ]
  },
  {
   "cell_type": "code",
   "execution_count": 406,
   "metadata": {},
   "outputs": [
    {
     "data": {
      "application/vnd.jupyter.widget-view+json": {
       "model_id": "d1dc6e3e0da7470189c080ccf6742bce",
       "version_major": 2,
       "version_minor": 0
      },
      "text/plain": [
       "Output()"
      ]
     },
     "metadata": {},
     "output_type": "display_data"
    }
   ],
   "source": [
    "noise = '1k'\n",
    "ipyvolume.pylab.savefig('input_3dfig_'+sample+'_'+noise+'.png',width=1280,height=720,fig=fig_inp[noise])"
   ]
  },
  {
   "cell_type": "code",
   "execution_count": 390,
   "metadata": {},
   "outputs": [
    {
     "data": {
      "application/vnd.jupyter.widget-view+json": {
       "model_id": "35cf0bb3b897487a9e4caa18cdb48bb5",
       "version_major": 2,
       "version_minor": 0
      },
      "text/plain": [
       "VBox(children=(VBox(children=(HBox(children=(Label(value='levels:'), FloatSlider(value=0.18, max=1.0, step=0.0…"
      ]
     },
     "metadata": {},
     "output_type": "display_data"
    }
   ],
   "source": [
    "avg_img = np.load('result_vol_npys/output_'+sample+'_vol_'+noise+'.npy')\n",
    "avg_img = avg_img[frame_range[0]:frame_range[1],frame_range[2]:frame_range[3],frame_range[4]:frame_range[5]]\n",
    "#avg_img = avg_img[:,::-1,::-1]\n",
    "avg_img = avg_img[:,:,::-1]\n",
    "avg_img =  np.transpose(avg_img, transpose_arr)\n",
    "mins = avg_img.min(axis=(0,1))\n",
    "maxs = avg_img.max(axis=(0,1))\n",
    "avg_img_norm = (avg_img - mins) / (maxs - mins)\n",
    "fig_res[noise] = ipyvolume.figure(camera = figcam)\n",
    "ipyvolume.volshow(avg_img_norm[:,:,:],extent=list(extent),level=levels[sample]['SR'][noise],opacity=opacities[sample]['SR'][noise])\n",
    "#ipyvolume.selector_default()\n",
    "fig_res[noise].volumes[0].opacity_scale = opacity\n",
    "fig_res[noise].volumes[0].brightness = brightness\n",
    "ipyvolume.pylab.xyzlabel(' ', ' ', ' ')\n",
    "ipyvolume.style.box_off()\n",
    "ipyvolume.show()"
   ]
  },
  {
   "cell_type": "code",
   "execution_count": 405,
   "metadata": {},
   "outputs": [
    {
     "data": {
      "application/vnd.jupyter.widget-view+json": {
       "model_id": "2aca112428d84f8e9b31d15f210ac1c5",
       "version_major": 2,
       "version_minor": 0
      },
      "text/plain": [
       "Output()"
      ]
     },
     "metadata": {},
     "output_type": "display_data"
    }
   ],
   "source": [
    "noise = '1k'\n",
    "ipyvolume.pylab.savefig('output_3dfig_'+sample+'_'+noise+'.png',width=1280,height=720,fig=fig_res[noise])"
   ]
  },
  {
   "cell_type": "code",
   "execution_count": 391,
   "metadata": {},
   "outputs": [
    {
     "data": {
      "application/vnd.jupyter.widget-view+json": {
       "model_id": "5c0c7fd288744563a0df6b937ad9bb7d",
       "version_major": 2,
       "version_minor": 0
      },
      "text/plain": [
       "VBox(children=(VBox(children=(HBox(children=(Label(value='levels:'), FloatSlider(value=0.55, max=1.0, step=0.0…"
      ]
     },
     "metadata": {},
     "output_type": "display_data"
    }
   ],
   "source": [
    "gt_vol = np.load('result_vol_npys/target_'+sample+'_vol.npy')\n",
    "gt_vol = gt_vol[frame_range[0]:frame_range[1],frame_range[2]:frame_range[3],frame_range[4]:frame_range[5]]\n",
    "#gt_vol = avg_img[:,::-1,::-1]\n",
    "gt_vol = gt_vol[:,:,::-1]\n",
    "gt_vol =  np.transpose(gt_vol, transpose_arr)\n",
    "mins = gt_vol.min(axis=(0,1))\n",
    "maxs = gt_vol.max(axis=(0,1))\n",
    "gt_vol_norm = (gt_vol - mins) / (maxs - mins)\n",
    "fig_gt = ipyvolume.figure(camera = figcam)\n",
    "ipyvolume.volshow(gt_vol_norm[:,:,:],extent=list(extent),level=levels[sample]['LR'][noise],opacity=opacities[sample]['LR'][noise],specular_exponent=5)\n",
    "fig_gt.volumes[0].opacity_scale = opacity\n",
    "fig_gt.volumes[0].brightness = brightness\n",
    "ipyvolume.pylab.xyzlabel(' ', ' ', ' ')\n",
    "ipyvolume.style.box_off()\n",
    "ipyvolume.show()"
   ]
  },
  {
   "cell_type": "code",
   "execution_count": 392,
   "metadata": {},
   "outputs": [
    {
     "data": {
      "application/vnd.jupyter.widget-view+json": {
       "model_id": "215e7df52cbd4a4aa74645f8b0528e42",
       "version_major": 2,
       "version_minor": 0
      },
      "text/plain": [
       "Output()"
      ]
     },
     "metadata": {},
     "output_type": "display_data"
    }
   ],
   "source": [
    "ipyvolume.pylab.savefig('gt_3dfig_'+sample+'.png',width=1280,height=720,fig = fig_gt)"
   ]
  },
  {
   "cell_type": "markdown",
   "metadata": {},
   "source": [
    "## Convert full UCSD sample data into MATLAB"
   ]
  },
  {
   "cell_type": "code",
   "execution_count": 399,
   "metadata": {},
   "outputs": [],
   "source": [
    "import scipy.io as sio"
   ]
  },
  {
   "cell_type": "code",
   "execution_count": 403,
   "metadata": {},
   "outputs": [],
   "source": [
    "noises = ['1k','2k','4k']\n",
    "for noise in noises:\n",
    "    sr_data = np.load('result_vol_npys/output_'+sample+'_vol_'+noise+'.npy')\n",
    "    lr_data = np.load('result_vol_npys/input_'+sample+'_vol_'+noise+'.npy')\n",
    "    mins = sr_data.min(axis=(0,1))\n",
    "    maxs = sr_data.max(axis=(0,1))\n",
    "    sr_data_norm = (sr_data - mins) / (maxs - mins)\n",
    "    mins = lr_data.min(axis=(0,1))\n",
    "    maxs = lr_data.max(axis=(0,1))\n",
    "    lr_data_norm = (lr_data - mins) / (maxs - mins)    \n",
    "    sio.savemat(sample+'_'+noise+'_LR.mat',{'vect':lr_data})\n",
    "    sio.savemat(sample+'_'+noise+'_SR.mat',{'vect':sr_data})\n",
    "    sio.savemat(sample+'_norm_'+noise+'_LR.mat',{'vect':lr_data_norm})\n",
    "    sio.savemat(sample+'_norm_'+noise+'_SR.mat',{'vect':sr_data_norm})\n",
    "hr_data = np.load('result_vol_npys/target_'+sample+'_vol.npy')\n",
    "mins = hr_data.min(axis=(0,1))\n",
    "maxs = hr_data.max(axis=(0,1))\n",
    "hr_data_norm = (hr_data - mins) / (maxs - mins) \n",
    "sio.savemat(sample+'_HR.mat',{'vect':hr_data})\n",
    "sio.savemat(sample+'_norm_HR.mat',{'vect':hr_data_norm})"
   ]
  },
  {
   "cell_type": "code",
   "execution_count": null,
   "metadata": {},
   "outputs": [],
   "source": []
  }
 ],
 "metadata": {
  "kernelspec": {
   "display_name": "Python 3",
   "language": "python",
   "name": "python3"
  },
  "language_info": {
   "codemirror_mode": {
    "name": "ipython",
    "version": 3
   },
   "file_extension": ".py",
   "mimetype": "text/x-python",
   "name": "python",
   "nbconvert_exporter": "python",
   "pygments_lexer": "ipython3",
   "version": "3.6.7"
  }
 },
 "nbformat": 4,
 "nbformat_minor": 2
}
