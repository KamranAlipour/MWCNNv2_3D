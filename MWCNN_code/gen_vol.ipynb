{
 "cells": [
  {
   "cell_type": "code",
   "execution_count": null,
   "metadata": {},
   "outputs": [],
   "source": [
    "import glob\n",
    "import ipyvolume\n",
    "import cv2\n",
    "import numpy as np"
   ]
  },
  {
   "cell_type": "code",
   "execution_count": null,
   "metadata": {},
   "outputs": [],
   "source": [
    "experiment = 'MWCNN_DeNoising'\n",
    "sample = 'UCSD900U'\n",
    "noise = '15' # other values you can try: '15' '20' '25' '30' '40'"
   ]
  },
  {
   "cell_type": "code",
   "execution_count": null,
   "metadata": {},
   "outputs": [],
   "source": [
    "levels = {\n",
    "              'UCSD900U': {\n",
    "                              'SR': { '10': [0.25, 0.75], '15': [0.25, 0.83], '20': [0.25, 0.90], '25': [0.25, 0.90]},\n",
    "                              'LR': { '10': [1.00, 0.74], '15': [1.00, 0.83], '20': [1.00, 0.90], '25': [1.00, 0.90]},\n",
    "                              'HR': [1.00, 0.75]\n",
    "                          }\n",
    "         }\n",
    "\n",
    "opacities = { 'UCSD900U': {\n",
    "                              'SR': { '10': [0.15,0.20,0.00], '15': [0.15,0.20,0.00], '20': [0.15,0.20,0.00], '25': [0.15,0.20,0.00]},\n",
    "                              'LR': { '10': [0.70,0.73,0.00], '15': [0.70,0.73,0.00], '20': [0.70,0.73,0.00], '25': [0.70,0.73,0.00]},\n",
    "                              'HR': [0.70,0.73,0.00]\n",
    "                          }\n",
    "            }"
   ]
  },
  {
   "cell_type": "code",
   "execution_count": null,
   "metadata": {},
   "outputs": [],
   "source": [
    "model_addr = '/home/phacou/MWCNNv2/MWCNN_code/experiment/'+experiment+'/'+sample+'_results/'\n",
    "case_addr = model_addr + noise\n",
    "HRpngs = sorted(glob.glob(case_addr+'/GT/*HR.png'))\n",
    "LRpngs = sorted(glob.glob(case_addr+'/noisy/*LR.png'))\n",
    "SRpngs = sorted(glob.glob(case_addr+'/model/*SR.png'))\n",
    "hrdata = []\n",
    "lrdata = []\n",
    "srdata = []\n",
    "for (hr,lr,sr) in zip(HRpngs,LRpngs,SRpngs):\n",
    "    hrf = cv2.imread(hr, 0)\n",
    "    lrf = cv2.imread(lr, 0)\n",
    "    srf = cv2.imread(sr, 0)\n",
    "    if (hrf.max() > hrf.min()):\n",
    "        hrf = (hrf - hrf.min())/ (hrf.max() - hrf.min())\n",
    "    lrf = (lrf - lrf.min())/ (lrf.max() - lrf.min())\n",
    "    srf = (srf - srf.min())/ (srf.max() - srf.min())\n",
    "    #print(lr.replace('noisy/','noisy_norm/'),sr.replace('model/','model_norm/'))\n",
    "    #cv2.imwrite(lr.replace('noisy/','noisy_norm/'),lrf*255.)\n",
    "    #cv2.imwrite(sr.replace('model/','model_norm/'),srf*255.)\n",
    "    hrdata.append(hrf)\n",
    "    srdata.append(srf)\n",
    "    lrdata.append(lrf)\n",
    "hrdata = np.array(hrdata)\n",
    "lrdata = np.array(lrdata)\n",
    "srdata = np.array(srdata)\n",
    "#hrdata = (hrdata - hrdata.min())/ (hrdata.max() - hrdata.min())\n",
    "#lrdata = (lrdata - lrdata.min())/ (lrdata.max() - lrdata.min())\n",
    "#srdata = (srdata - srdata.min())/ (srdata.max() - srdata.min())"
   ]
  },
  {
   "cell_type": "code",
   "execution_count": null,
   "metadata": {
    "scrolled": true
   },
   "outputs": [],
   "source": [
    "ipyvolume.figure()\n",
    "ipyvolume.volshow(lrdata[:,:,:],level=levels[sample]['LR'][noise],opacity=opacities[sample]['LR'][noise])\n",
    "ipyvolume.show()\n",
    "ipyvolume.view(azimuth=90, elevation=5, distance=3)"
   ]
  },
  {
   "cell_type": "code",
   "execution_count": null,
   "metadata": {},
   "outputs": [],
   "source": [
    "ipyvolume.view(azimuth=90, elevation=5, distance=3)"
   ]
  },
  {
   "cell_type": "code",
   "execution_count": null,
   "metadata": {},
   "outputs": [],
   "source": [
    "ipyvolume.figure()\n",
    "ipyvolume.volshow(srdata[:,:,:],level=levels[sample]['SR'][noise],opacity=opacities[sample]['SR'][noise])\n",
    "ipyvolume.show()\n",
    "ipyvolume.view(azimuth=90, elevation=5, distance=3)"
   ]
  },
  {
   "cell_type": "code",
   "execution_count": null,
   "metadata": {},
   "outputs": [],
   "source": [
    "ipyvolume.figure()\n",
    "ipyvolume.volshow(hrdata[:,:,:],level=levels[sample]['HR'],opacity=opacities[sample]['HR'])\n",
    "ipyvolume.show()\n",
    "ipyvolume.view(azimuth=90, elevation=5, distance=3)"
   ]
  },
  {
   "cell_type": "code",
   "execution_count": null,
   "metadata": {},
   "outputs": [],
   "source": [
    "ipyvolume.view(azimuth=90, elevation=5, distance=3)"
   ]
  },
  {
   "cell_type": "code",
   "execution_count": null,
   "metadata": {},
   "outputs": [],
   "source": [
    "#ipyvolume.quickvolshow(lrdata[:,300:,:], lighting=True)\n",
    "ipyvolume.quickvolshow(hrdata[:,:,:],level=[0.25, 0.75],opacity=0.1)"
   ]
  },
  {
   "cell_type": "code",
   "execution_count": null,
   "metadata": {},
   "outputs": [],
   "source": [
    "ipyvolume.quickvolshow(lrdata[:,300:,:], lighting=True)"
   ]
  },
  {
   "cell_type": "code",
   "execution_count": null,
   "metadata": {},
   "outputs": [],
   "source": [
    "x, y, z, u, v = ipyvolume.examples.klein_bottle(draw=False)\n",
    "ipyvolume.figure()\n",
    "m = ipyvolume.show_vol(x, y, z, wireframe=False)\n",
    "ipyvolume.squarelim()\n",
    "ipyvolume.show()"
   ]
  },
  {
   "cell_type": "markdown",
   "metadata": {},
   "source": [
    "## Convert data into MATLAB"
   ]
  },
  {
   "cell_type": "code",
   "execution_count": null,
   "metadata": {},
   "outputs": [],
   "source": [
    "import scipy.io as sio"
   ]
  },
  {
   "cell_type": "code",
   "execution_count": null,
   "metadata": {},
   "outputs": [],
   "source": [
    "noise = '20'"
   ]
  },
  {
   "cell_type": "code",
   "execution_count": null,
   "metadata": {},
   "outputs": [],
   "source": [
    "model_addr = '/home/phacou/MWCNNv2/MWCNN_code/experiment/'+experiment+'/'+sample+'_results/'\n",
    "case_addr = model_addr + noise\n",
    "HRpngs = sorted(glob.glob(case_addr+'/GT/*HR.png'))\n",
    "LRpngs = sorted(glob.glob(case_addr+'/noisy/*LR.png'))\n",
    "SRpngs = sorted(glob.glob(case_addr+'/model/*SR.png'))\n",
    "hrdata = []\n",
    "lrdata = []\n",
    "srdata = []\n",
    "for (hr,lr,sr) in zip(HRpngs,LRpngs,SRpngs):\n",
    "    #hrf = cv2.imread(hr, 0)\n",
    "    lrf = cv2.imread(lr, 0)\n",
    "    srf = cv2.imread(sr, 0)\n",
    "    #if (hrf.max() > hrf.min()):\n",
    "    #    hrf = (hrf - hrf.min())/ (hrf.max() - hrf.min())\n",
    "    lrf = (lrf - lrf.min())/ (lrf.max() - lrf.min())\n",
    "    srf = (srf - srf.min())/ (srf.max() - srf.min())\n",
    "    hrdata.append(hrf)\n",
    "    srdata.append(srf)\n",
    "    lrdata.append(lrf)\n",
    "hrdata = np.array(hrdata)\n",
    "lrdata = np.array(lrdata)\n",
    "srdata = np.array(srdata)"
   ]
  },
  {
   "cell_type": "code",
   "execution_count": null,
   "metadata": {},
   "outputs": [],
   "source": [
    "#sio.savemat('U900_15_HR.mat',{'vect':hrdata})\n",
    "sio.savemat('U900_'+noise+'_LR.mat',{'vect':lrdata})\n",
    "sio.savemat('U900_'+noise+'_SR.mat',{'vect':srdata})"
   ]
  },
  {
   "cell_type": "code",
   "execution_count": null,
   "metadata": {},
   "outputs": [],
   "source": []
  }
 ],
 "metadata": {
  "kernelspec": {
   "display_name": "Python 3",
   "language": "python",
   "name": "python3"
  },
  "language_info": {
   "codemirror_mode": {
    "name": "ipython",
    "version": 3
   },
   "file_extension": ".py",
   "mimetype": "text/x-python",
   "name": "python",
   "nbconvert_exporter": "python",
   "pygments_lexer": "ipython3",
   "version": "3.6.7"
  }
 },
 "nbformat": 4,
 "nbformat_minor": 2
}
